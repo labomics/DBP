{
 "cells": [
  {
   "cell_type": "code",
   "execution_count": null,
   "metadata": {
    "vscode": {
     "languageId": "r"
    }
   },
   "outputs": [],
   "source": [
    "source(\"/root/data/DBP_sa_bc/preprocess/utils.R\")\n",
    "setwd(\"/root/data/DBP_sa_bc/\")\n",
    "library(mclust) \n",
    "library(RColorBrewer)\n",
    "\n",
    "parser <- ArgumentParser()\n",
    "parser$add_argument(\"--task\", type = \"character\", default = \"ga_tumor\")\n",
    "parser$add_argument(\"--method\", type = \"character\", default = \"DBP_sa_bc\")\n",
    "parser$add_argument(\"--exp\", type = \"character\", default = \"e4\")\n",
    "parser$add_argument(\"--init_model\", type = \"character\", default = \"sp_latest\")\n",
    "parser$add_argument(\"--K\", type = \"integer\", default = \"30\")\n",
    "o <- parser$parse_known_args()[[1]]\n",
    "\n",
    "K <- o$K\n",
    "config <- parseTOML(\"configs/data.toml\")[[o$task]]\n",
    "subset_names <- basename(config$raw_data_dirs)\n",
    "subset_ids <- sapply(seq_along(subset_names) - 1, toString)\n",
    "pp_dir <- pj(\"data\", \"processed\", o$task)\n",
    "rnk_dir <- pj(\"result\", \"analysis\", o$task, o$method, o$exp)\n",
    "input_dirs <- pj(\"result\", o$task, o$exp, \"default\", \"predict\", o$init_model, paste0(\"subset_\", subset_ids))\n",
    "if(\"DBP_sa_bc\" %in% o$method){\n",
    "    output_dir <- pj(\"result\", \"comparison\", o$task, o$method, o$exp, o$init_model, \"fa\", \"figs\")\n",
    "}else if(\"mofa\" %in% o$method | \"liger\" %in% o$method | \"LDVAE\" %in% o$method | \"scETM\" %in% o$method){\n",
    "    emb_dir <- pj(\"result\", \"comparison\", o$task, o$method)\n",
    "    output_dir <- pj(\"result\", \"comparison\", o$task, o$method, \"fa\", \"figs\")\n",
    "}\n",
    "break_index_dir <- pj(\"result\", o$task, o$exp, \"default\", \"predict\", o$init_model)\n",
    "mkdir(output_dir, remove_old = F)\n",
    "label_paths <- pj(config$raw_data_dirs, \"label\", \"meta.csv\")\n",
    "\n",
    "dim_c <- parseTOML(\"configs/model.toml\")[[\"default\"]]$dim_c\n",
    "qual_col_pals <- brewer.pal.info[brewer.pal.info$category == 'qual',]\n",
    "dcols <- unlist(mapply(brewer.pal, qual_col_pals$maxcolors, rownames(qual_col_pals)))\n",
    "l <- 5  # figure size\n",
    "L <- 8   # figure size\n",
    "m <- 0.5  # legend margin"
   ]
  },
  {
   "cell_type": "code",
   "execution_count": null,
   "metadata": {
    "vscode": {
     "languageId": "r"
    }
   },
   "outputs": [],
   "source": [
    "z_list <- list()\n",
    "w_list <- list()\n",
    "rna_bc_list <- list()\n",
    "cell_name_list <- list()\n",
    "label_list1 <- list()\n",
    "label_list2 <- list()\n",
    "label_list3 <- list()\n",
    "subset_name_list <- list()\n",
    "S <- length(subset_names)\n",
    "for (i in seq_along(subset_names)) {\n",
    "    subset_name <- subset_names[i]\n",
    "    z_dir       <- pj(input_dirs[i], \"z\", \"joint\")\n",
    "    w_dir       <- pj(input_dirs[i], \"w\", \"joint\")\n",
    "    rna_bc_dir  <- pj(input_dirs[i], \"x_bc\", \"rna\")\n",
    "    fnames <- dir(path = z_dir, pattern = \".csv$\")\n",
    "    fnames <- str_sort(fnames, decreasing = F)\n",
    "\n",
    "    z_subset_list <- list()\n",
    "    w_subset_list <- list()\n",
    "    rna_bc_subset_list <- list()\n",
    "\n",
    "    N <- length(fnames)\n",
    "    for (n in seq_along(fnames)) {\n",
    "        message(paste0(\"Loading Subset \", i, \"/\", S, \", File \", n, \"/\", N))\n",
    "        z_subset_list[[n]] <- read.csv(file.path(z_dir, fnames[n]), header = F)\n",
    "        w_subset_list[[n]] <- read.csv(file.path(w_dir, fnames[n]), header = F)\n",
    "        rna_bc_subset_list[[n]] <- read.csv(file.path(rna_bc_dir, fnames[n]), header = F)\n",
    "\n",
    "    }\n",
    "    z_list[[subset_name]] <- bind_rows(z_subset_list)\n",
    "    w_list[[subset_name]] <- bind_rows(w_subset_list)\n",
    "    rna_bc_list[[subset_name]] <- bind_rows(rna_bc_subset_list)\n",
    "\n",
    "    cell_name_list[[subset_name]] <- read.csv(pj(pp_dir, paste0(\"subset_\", subset_ids[i]),\n",
    "        \"cell_names.csv\"), header = T)[, 2]\n",
    "    if (\"lung_ts\" %in% o$task){\n",
    "        label_list1[[subset_name]] <- read.csv(label_paths[i], header = T)[, \"Celltypes_updated_July_2020\"]\n",
    "        label_list2[[subset_name]] <- read.csv(label_paths[i], header = T)[, \"Celltypes1\"]\n",
    "    }else if(\"wnn_rna\" %in% o$task){\n",
    "        label_list1[[subset_name]] <- read.csv(label_paths[i], header = T)[, \"celltype.l1\"]\n",
    "        label_list2[[subset_name]] <- read.csv(label_paths[i], header = T)[, \"celltype.l2\"]\n",
    "        label_list3[[subset_name]] <- read.csv(label_paths[i], header = T)[, \"celltype.l3\"]\n",
    "    }else if(\"scsim1-10\" %in% o$task){\n",
    "        label_list1[[subset_name]] <- read.csv(label_paths[i], header = T)[, \"celltypes\"]\n",
    "        label_list2[[subset_name]] <- read.csv(label_paths[i], header = T)[, \"celltypes\"]\n",
    "        label_list3[[subset_name]] <- read.csv(label_paths[i], header = T)[, \"celltypes\"]\n",
    "    }else if(\"ga\" %in% o$task){\n",
    "        label_list1[[subset_name]] <- read.csv(label_paths[i], header = T)[, \"celltype\"]\n",
    "        label_list2[[subset_name]] <- read.csv(label_paths[i], header = T)[, \"celltype\"]\n",
    "        label_list3[[subset_name]] <- read.csv(label_paths[i], header = T)[, \"celltype\"]\n",
    "    }else if(\"ga_tumor\" %in% o$task){\n",
    "        label_list1[[subset_name]] <- read.csv(label_paths[i], header = T)[, \"c1_5\"]\n",
    "        label_list2[[subset_name]] <- read.csv(label_paths[i], header = T)[, \"c1_5\"]\n",
    "        label_list3[[subset_name]] <- read.csv(label_paths[i], header = T)[, \"c1_5\"]\n",
    "    }\n",
    "    \n",
    "    subset_name_list[[subset_name]] <- rep(subset_name, length(cell_name_list[[subset_name]]))\n",
    "}"
   ]
  },
  {
   "attachments": {},
   "cell_type": "markdown",
   "metadata": {},
   "source": [
    "## Create seurat object"
   ]
  },
  {
   "cell_type": "code",
   "execution_count": null,
   "metadata": {
    "vscode": {
     "languageId": "r"
    }
   },
   "outputs": [],
   "source": [
    "rna_bc <- t(data.matrix(bind_rows(rna_bc_list)))\n",
    "colnames(rna_bc) <- do.call(\"c\", unname(cell_name_list))\n",
    "rownames(rna_bc) <- read.csv(pj(pp_dir, \"feat\", \"feat_names_rna.csv\"), header = T)[, 2]\n",
    "obj <- CreateSeuratObject(counts = rna_bc, assay = \"rna_bc\")\n",
    "\n",
    "annotation <- GetGRangesFromEnsDb(EnsDb.Hsapiens.v86)\n",
    "# seqlevelsStyle(annotation) <- \"UCSC\"\n",
    "genome(annotation) <- \"hg38\"\n",
    "\n",
    "if (\"DBP_sa_bc\" %in% o$method){\n",
    "    z <- data.matrix(bind_rows(z_list))\n",
    "    w <- data.matrix(bind_rows(w_list))\n",
    "    c <- z[, 1:dim_c]*w\n",
    "    # break\n",
    "    index <- read.csv(pj(break_index_dir, \"break_index.csv\"), header = FALSE)\n",
    "    index <- index+1\n",
    "    names(index) <- \"id\"\n",
    "    tc <- data.frame(id = 1:dim(w)[2], y = t(c)) \n",
    "    loc <- match(index$id,tc$id)\n",
    "    c_ord <- tc[loc,]\n",
    "    c_bre <- c_ord[1:K, !colnames(c_ord) %in% c(\"id\")]\n",
    "    emc <- data.matrix(t(c_bre))\n",
    "    # c_bre <- abs(c_bre)\n",
    "}else if(\"mofa\" %in% o$method | \"liger\" %in% o$method){\n",
    "    c <- read.csv(pj(emb_dir, \"embeddings.csv\"), header = TRUE, row.names = 1)\n",
    "    emc <- data.matrix(c)\n",
    "    # c_bre <- abs(c_bre)\n",
    "}else if(\"LDVAE\" %in% o$method| \"scETM\" %in% o$method){\n",
    "    c <- read.csv(pj(emb_dir, \"embeddings.csv\"), header = FALSE)\n",
    "    emc <- data.matrix(c)\n",
    "    # c_bre <- abs(c_bre)\n",
    "}\n",
    "\n",
    "# for umap\n",
    "colnames(emc) <- paste0(\"F_\", seq_len(ncol(emc)))\n",
    "rownames(emc) <- colnames(obj)\n",
    "obj[[\"emc\"]] <- CreateDimReducObject(embeddings = emc, key = \"F_\", assay = \"rna_bc\")\n",
    "\n",
    "obj@meta.data$celltype1 <- do.call(\"c\", unname(label_list1))\n",
    "obj@meta.data$celltype2 <- do.call(\"c\", unname(label_list2))\n",
    "obj@meta.data$celltype3 <- do.call(\"c\", unname(label_list3))\n",
    "obj@meta.data$batch <- do.call(\"c\", unname(subset_name_list))\n",
    "table(obj@meta.data$batch)[unique(obj@meta.data$batch)]\n",
    "\n",
    "# obj <- subset(obj, subset = nCount_rna_c > 0)\n",
    "obj"
   ]
  },
  {
   "cell_type": "code",
   "execution_count": null,
   "metadata": {
    "vscode": {
     "languageId": "r"
    }
   },
   "outputs": [],
   "source": [
    "obj <- RunUMAP(obj, reduction = 'emc', dims = 1:dim(emc)[2], reduction.name = 'umap')\n",
    "# SaveH5Seurat(obj, pj(output_dir, \"obj_break.h5seurat\"), overwrite = TRUE)"
   ]
  },
  {
   "cell_type": "code",
   "execution_count": null,
   "metadata": {
    "vscode": {
     "languageId": "r"
    }
   },
   "outputs": [],
   "source": [
    "# obj <- LoadH5Seurat(pj(output_dir, \"obj.h5seurat\"), assays = \"rna\", reductions = \"umap\")\n",
    "# obj\n",
    "\n",
    "if (\"wnn_rna\" %in% o$task){\n",
    "    batch_cols <- col_8\n",
    "    celltype1_cols <- col_8\n",
    "    celltype2_cols <- col_31\n",
    "}else if(\"lung_ts\" %in% o$task){\n",
    "    batch_cols <- col_5\n",
    "    celltype1_cols <- col_16\n",
    "    celltype2_cols <- col_28\n",
    "}else if(\"ga\" %in% o$task){\n",
    "    batch_cols <- col_14\n",
    "    celltype1_cols <- col_14\n",
    "    celltype2_cols <- col_14\n",
    "}else if(\"ga_tumor\" %in% o$task){\n",
    "    batch_cols <- col_5\n",
    "    celltype1_cols <- col_8\n",
    "    celltype2_cols <- col_8\n",
    "}\n",
    "\n",
    "\n",
    "# dim_plot(obj, w = L, h = L, reduction = 'umap', no_axes = T, border = T,\n",
    "#     split.by = NULL, group.by = \"batch\", label = F, repel = T, \n",
    "#     label.size = 4, pt.size = 0.1, cols = batch_cols, legend = F,\n",
    "#     save_path = pj(output_dir, paste(o$method, \"merged_batch\", sep = \"_\")))\n",
    "     \n",
    "# dim_plot(obj, w = L, h = L, reduction = 'umap', no_axes = T, border = T,\n",
    "#     split.by = NULL, group.by = \"celltype1\", label = F, repel = T, \n",
    "#     label.size = 4, pt.size = 0.1, cols = celltype1_cols, legend = F,\n",
    "#     save_path = pj(output_dir, paste(o$method, \"merged_label1\", sep = \"_\")))\n",
    "\n",
    "# dim_plot(obj, w = L, h = L, reduction = 'umap', no_axes = T, border = T,\n",
    "#     split.by = NULL, group.by = \"celltype2\", label = F, repel = T, \n",
    "#     label.size = 4, pt.size = 0.1, cols = celltype2_cols, legend = F,\n",
    "#     save_path = pj(output_dir, paste(o$method, \"merged_label2\", sep = \"_\")))\n",
    "\n",
    "# dim_plot(obj, w = L*6, h = L, reduction = 'umap', no_axes = T, border = T,\n",
    "#     split.by = \"batch\", group.by = \"celltype1\", label = F, repel = T, \n",
    "#     label.size = 4, pt.size = 0.1, cols = celltype1_cols, legend = F,\n",
    "#     save_path = pj(output_dir, paste(o$method, \"batch_split1\", sep = \"_\"))) \n",
    "\n",
    "# dim_plot(obj, w = L*6, h = L, reduction = 'umap', no_axes = T, border = T,\n",
    "#     split.by = \"batch\", group.by = \"celltype2\", label = F, repel = T, \n",
    "#     label.size = 4, pt.size = 0.1, cols = celltype2_cols, legend = F,\n",
    "#     save_path = pj(output_dir, paste(o$method, \"batch_split2\", sep = \"_\")))\n",
    "\n",
    "DimPlot(obj, group.by = \"celltype1\", label = F, cols = celltype1_cols, reduction = \"umap\", pt.size = 1, raster = T, raster.dpi = c(512, 512)) + \n",
    "        theme(panel.border = element_rect(color = \"black\", linewidth = 0.8),\n",
    "              axis.ticks.length = unit(0, \"pt\"),\n",
    "              plot.title = element_blank()) +\n",
    "              NoAxes() +\n",
    "              NoLegend()\n",
    "ggsave(file = pj(output_dir, paste(o$method, \"merged_label1.png\", sep = \"_\")), width = L, height = L)\n",
    "ggsave(file = pj(output_dir, paste(o$method, \"merged_label1.pdf\", sep = \"_\")), width = L, height = L)\n"
   ]
  },
  {
   "attachments": {},
   "cell_type": "markdown",
   "metadata": {},
   "source": [
    "## Plot all factors"
   ]
  },
  {
   "cell_type": "code",
   "execution_count": null,
   "metadata": {
    "vscode": {
     "languageId": "r"
    }
   },
   "outputs": [],
   "source": [
    "obj$seurat_clusters <- obj$celltype1\n",
    "Idents(object=obj) <- obj$celltype1\n",
    "factors <- colnames(emc)\n",
    "\n",
    "if (\"wnn_rna\" %in% o$task){\n",
    "    batch_cols <- col_8\n",
    "    celltype1_cols <- col_8\n",
    "    celltype2_cols <- col_31\n",
    "}else if(\"lung_ts\" %in% o$task){\n",
    "    batch_cols <- col_5\n",
    "    celltype1_cols <- col_16\n",
    "    celltype2_cols <- col_28\n",
    "}else if(\"ga\" %in% o$task){\n",
    "    batch_cols <- col_5\n",
    "    celltype1_cols <- col_16\n",
    "    celltype2_cols <- col_28\n",
    "}\n",
    "\n",
    "# FeaturePlot(obj, features = factors, label = T)\n",
    "for(f in factors){\n",
    "    FeaturePlot(obj, features = f, label = T) +\n",
    "            scale_colour_gradient2(low=\"#f19007\", high=\"#990033\", mid=\"white\") \n",
    "    ggsave(file = pj(output_dir, paste(f, \"fea1.png\", sep = \"_\")), width = 8, height = 8)\n",
    "    \n",
    "}\n",
    "\n",
    "# FeaturePlot(obj, features = factors, label = T)\n",
    "for(f in factors){\n",
    "    VlnPlot(obj, features = f, cols = celltype1_cols, group.by = \"celltype1\", pt.size = 0) + \n",
    "    NoLegend() + \n",
    "    scale_y_continuous(position = \"right\") +\n",
    "    labs(title = \"\") +\n",
    "    theme(axis.title = element_blank(),\n",
    "      axis.title.x = element_blank(),\n",
    "      axis.text.x = element_blank(),\n",
    "      axis.line = element_blank(),\n",
    "      # axis.text.y = element_text(angle = 90, hjust = 1),\n",
    "      axis.ticks.x = element_blank(),\n",
    "      panel.border = element_rect(color = \"black\", fill = NA, size = 0.8)\n",
    "      )\n",
    "    ggsave(file = pj(output_dir, paste(f, \"vln1.png\", sep = \"_\")), width = 10, height = 3)\n",
    "    # ggsave(file = pj(output_dir, paste(f, \"vln2.png\", sep = \"_\")), width = 15, height = 5)\n",
    "    }"
   ]
  },
  {
   "cell_type": "markdown",
   "metadata": {},
   "source": [
    "## Plot single factor"
   ]
  },
  {
   "cell_type": "code",
   "execution_count": null,
   "metadata": {
    "vscode": {
     "languageId": "r"
    }
   },
   "outputs": [],
   "source": [
    "# Set colour\n",
    "obj$seurat_clusters <- obj$celltype1\n",
    "Idents(object=obj) <- obj$celltype1\n",
    "factors <- colnames(emc)\n",
    "\n",
    "if (\"wnn_rna\" %in% o$task){\n",
    "    batch_cols <- col_8\n",
    "    celltype1_cols <- col_8\n",
    "    celltype2_cols <- col_31\n",
    "}else if(\"lung_ts\" %in% o$task){\n",
    "    batch_cols <- col_5\n",
    "    celltype1_cols <- col_28\n",
    "    celltype2_cols <- col_16\n",
    "}else if(\"ga\" %in% o$task){\n",
    "    batch_cols <- col_14\n",
    "    celltype1_cols <- col_14\n",
    "    celltype2_cols <- col_14\n",
    "}else if(\"ga_tumor\" %in% o$task){\n",
    "    batch_cols <- col_5\n",
    "    celltype1_cols <- col_8\n",
    "    celltype2_cols <- col_8\n",
    "}\n"
   ]
  },
  {
   "cell_type": "markdown",
   "metadata": {},
   "source": [
    "### FeaturePlot-factors"
   ]
  },
  {
   "cell_type": "code",
   "execution_count": null,
   "metadata": {
    "vscode": {
     "languageId": "r"
    }
   },
   "outputs": [],
   "source": [
    "f <- \"F_21\"\n",
    "# obj$seurat_clusters <- obj$celltype1\n",
    "# Idents(object=obj) <- obj$celltype1\n",
    "# factors <- colnames(emc)\n",
    "\n",
    "FeaturePlot(obj, features = f, label = F, pt.size = 1, raster = T, raster.dpi = c(512, 512)) +\n",
    "            scale_colour_gradient2(low=\"#f19007\", high=\"#990033\", mid=\"lightgrey\") +\n",
    "            theme(panel.border = element_rect(color = \"black\", linewidth = 0.8),\n",
    "            axis.ticks.length = unit(0, \"pt\"),\n",
    "            plot.title = element_blank()) +\n",
    "            NoAxes() +\n",
    "            NoLegend()\n",
    "ggsave(file = pj(output_dir, paste(f, \"fea1.png\", sep = \"_\")), width = 8, height = 8)\n",
    "ggsave(file = pj(output_dir, paste(f, \"fea1.pdf\", sep = \"_\")), width = 8, height = 8)"
   ]
  },
  {
   "cell_type": "markdown",
   "metadata": {},
   "source": [
    "### FeaturePlot-genes"
   ]
  },
  {
   "cell_type": "code",
   "execution_count": null,
   "metadata": {
    "vscode": {
     "languageId": "r"
    }
   },
   "outputs": [],
   "source": [
    "FeaturePlot(obj, features = \"LIPF\", cols = c(\"lightgrey\", \"#C23D38\"), label = F, pt.size = 0.1, raster = T, raster.dpi = c(512, 512)) +\n",
    "            theme(panel.border = element_rect(color = \"black\", linewidth = 1),\n",
    "            axis.ticks.length = unit(0, \"pt\"),\n",
    "            plot.title = element_blank()) +\n",
    "            NoAxes() +\n",
    "            NoLegend()\n",
    "ggsave(file = pj(output_dir, \"LIPF_F18_nonmali.png\"), width = 8, height = 8)\n",
    "ggsave(file = pj(output_dir, \"LIPF_F18_nonmali.pdf\"), width = 8, height = 8)"
   ]
  },
  {
   "cell_type": "code",
   "execution_count": null,
   "metadata": {
    "vscode": {
     "languageId": "r"
    }
   },
   "outputs": [],
   "source": [
    "FeaturePlot(obj, features = \"PI3\", cols = c(\"lightgrey\", \"#C23D38\"), label = F, pt.size = 0.1, raster = T, raster.dpi = c(512, 512))+\n",
    "            theme(panel.border = element_rect(color = \"black\", linewidth = 1),\n",
    "            axis.ticks.length = unit(0, \"pt\"),\n",
    "            plot.title = element_blank())+\n",
    "            NoAxes() +\n",
    "            NoLegend() \n",
    "ggsave(file = pj(output_dir, \"PI3_F28_mali.png\"), width = 8, height = 8)\n",
    "ggsave(file = pj(output_dir, \"PI3_F28_mali.pdf\"), width = 8, height = 8)"
   ]
  },
  {
   "cell_type": "code",
   "execution_count": null,
   "metadata": {
    "vscode": {
     "languageId": "r"
    }
   },
   "outputs": [],
   "source": [
    "FeaturePlot(obj, features = \"FABP1\", cols = c(\"lightgrey\", \"#C23D38\"), label = F, pt.size = 0.1, raster = T, raster.dpi = c(512, 512))+\n",
    "            theme(panel.border = element_rect(color = \"black\", linewidth = 1),\n",
    "            axis.ticks.length = unit(0, \"pt\"),\n",
    "            plot.title = element_blank()) +\n",
    "            NoAxes() +\n",
    "            NoLegend()\n",
    "ggsave(file = pj(output_dir, \"FABP1_F28_mali.png\"), width = 8, height = 8)\n",
    "ggsave(file = pj(output_dir, \"FABP1_F28_mali.pdf\"), width = 8, height = 8)"
   ]
  },
  {
   "cell_type": "code",
   "execution_count": null,
   "metadata": {
    "vscode": {
     "languageId": "r"
    }
   },
   "outputs": [],
   "source": [
    "FeaturePlot(obj, features = \"TM4SF20\", cols = c(\"lightgrey\", \"#C23D38\"), label = F, pt.size = 0.1, raster = T, raster.dpi = c(512, 512))+\n",
    "            theme(panel.border = element_rect(color = \"black\", linewidth = 1),\n",
    "            axis.ticks.length = unit(0, \"pt\"),\n",
    "            plot.title = element_blank()) +\n",
    "            NoAxes() +\n",
    "            NoLegend()\n",
    "ggsave(file = pj(output_dir, \"TM4SF20_F28_mali.png\"), width = 8, height = 8)\n",
    "ggsave(file = pj(output_dir, \"TM4SF20_F28_mali.pdf\"), width = 8, height = 8)"
   ]
  },
  {
   "cell_type": "markdown",
   "metadata": {},
   "source": [
    "### VlnPlot-factors"
   ]
  },
  {
   "cell_type": "code",
   "execution_count": null,
   "metadata": {
    "vscode": {
     "languageId": "r"
    }
   },
   "outputs": [],
   "source": [
    "f <- \"F_6\"\n",
    "VlnPlot(obj, features = f, cols = celltype2_cols, group.by = \"celltype2\", pt.size = 0) + \n",
    "NoLegend() + \n",
    "scale_y_continuous(position = \"right\") +\n",
    "# labs(title = f) +\n",
    "theme(axis.title = element_blank(),\n",
    "    axis.title.x = element_blank(),\n",
    "    axis.text.x = element_blank(),\n",
    "    axis.line = element_blank(),\n",
    "    # axis.text.y = element_text(angle = 90, hjust = 1),\n",
    "    axis.ticks.x = element_blank(),\n",
    "    panel.border = element_rect(color = \"black\", fill = NA, size = 0.8)\n",
    "    )\n",
    "    \n",
    "ggsave(file = pj(output_dir, paste(f, \"vln1.png\", sep = \"_\")), width = 10, height = 3)\n",
    "ggsave(file = pj(output_dir, paste(f, \"vln1.pdf\", sep = \"_\")), width = 10, height = 3)"
   ]
  },
  {
   "cell_type": "markdown",
   "metadata": {},
   "source": [
    "### DotPlot-genes"
   ]
  },
  {
   "cell_type": "code",
   "execution_count": null,
   "metadata": {
    "vscode": {
     "languageId": "r"
    }
   },
   "outputs": [],
   "source": [
    "# top\n",
    "f <- \"F35\"\n",
    "genes_dir <- pj(rnk_dir, \"fa\", \"all_rnks\", f)\n",
    "genes <- read.table(pj(genes_dir, paste0(f, \".rnk\")), quote = \"\\t\", header = F)[1]\n",
    "tg <- head(genes, 20)\n",
    "tg <- as.data.frame(t(tg), row.names = NULL)\n",
    "tg <- rev(tg)\n",
    "tg <- as.character(tg)\n",
    "p1 <- DotPlot(obj, features = tg, group.by = \"celltype1\", \n",
    "            cols = c(\"#4684BD\", \"#C23D38\")) + \n",
    "            # RotatedAxis() + \n",
    "            coord_flip() +\n",
    "            # NoLegend() +\n",
    "            # scale_y_discrete(limits = c(\"Neuroendocrine (uncertain)\", \"C5-EBV\",\"C4-CDA\",\"C3-Mixed\",\"C2-Intestinal\", \"C1-Diffuse\",\"Abandoned\"), position = \"left\") +\n",
    "            theme(\n",
    "        #  panel.grid.major = element_line(colour = \"lightgrey\", linetype = \"dashed\", linewidth = 0.1),\n",
    "            # axis.text.x = element_blank(),\n",
    "            axis.title.x = element_blank(),\n",
    "            axis.title.y = element_blank(),\n",
    "            axis.line.x = element_blank(),\n",
    "            axis.ticks.x = element_blank(),\n",
    "            axis.text.x = element_blank()\n",
    "            # axis.text.x = element_text(angle = 90, hjust = 1)\n",
    "            )\n",
    "p1\n",
    "ggsave(p1, file = pj(output_dir, paste(f, \"top_fea1.png\", sep = \"_\")), width = 10, height = 8)\n",
    "ggsave(p1, file = pj(output_dir, paste(f, \"top_fea1.pdf\", sep = \"_\")), width = 10, height = 8)"
   ]
  },
  {
   "cell_type": "code",
   "execution_count": null,
   "metadata": {
    "vscode": {
     "languageId": "r"
    }
   },
   "outputs": [],
   "source": [
    "# tail\n",
    "f <- \"F35\"\n",
    "genes_dir <- pj(rnk_dir, \"fa\", \"all_rnks\", f)\n",
    "genes <- read.table(pj(genes_dir, paste0(f, \".rnk\")), quote = \"\\t\", header = F)[1]\n",
    "lg <- tail(genes, 20)\n",
    "lg <- as.data.frame(t(lg), row.names = NULL)\n",
    "lg <- as.character(lg)\n",
    "p1 <- DotPlot(obj, features = lg, group.by = \"celltype1\", \n",
    "            cols = c(\"#4684BD\", \"#C23D38\")) + \n",
    "            # RotatedAxis() + \n",
    "            coord_flip() +\n",
    "            # scale_y_discrete(limits = c(\"Neuroendocrine (uncertain)\", \"C5-EBV\",\"C4-CDA\",\"C3-Mixed\",\"C2-Intestinal\", \"C1-Diffuse\",\"Abandoned\"), position = \"left\") +\n",
    "            # NoLegend()+\n",
    "            theme(\n",
    "        #  panel.grid.major = element_line(colour = \"lightgrey\", linetype = \"dashed\", linewidth = 0.1),\n",
    "            # axis.text.x = element_blank(),\n",
    "            axis.title.x = element_blank(),\n",
    "            axis.title.y = element_blank(),\n",
    "            axis.line.x = element_blank(),\n",
    "            axis.ticks.x = element_blank(),\n",
    "            axis.text.x = element_blank()\n",
    "            # axis.text.x = element_text(angle = 90, hjust = 1)\n",
    "            )\n",
    "p1\n",
    "ggsave(p1, file = pj(output_dir, paste(f, \"tail_fea1.png\", sep = \"_\")), width = 10, height = 8)\n",
    "ggsave(p1, file = pj(output_dir, paste(f, \"tail_fea1.pdf\", sep = \"_\")), width = 10, height = 8)"
   ]
  }
 ],
 "metadata": {
  "kernelspec": {
   "display_name": "R",
   "language": "R",
   "name": "ir"
  },
  "language_info": {
   "codemirror_mode": "r",
   "file_extension": ".r",
   "mimetype": "text/x-r-source",
   "name": "R",
   "pygments_lexer": "r",
   "version": "4.1.1"
  },
  "orig_nbformat": 4
 },
 "nbformat": 4,
 "nbformat_minor": 2
}
