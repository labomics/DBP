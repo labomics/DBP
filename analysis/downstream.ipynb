{
 "cells": [
  {
   "attachments": {},
   "cell_type": "markdown",
   "metadata": {},
   "source": [
    "# DBP downstream analysis"
   ]
  },
  {
   "cell_type": "code",
   "execution_count": null,
   "metadata": {
    "vscode": {
     "languageId": "r"
    }
   },
   "outputs": [],
   "source": [
    "source(\"/root/data/DBP_sa_bc/preprocess/utils.R\")\n",
    "setwd(\"/root/data/DBP_sa_bc/\")\n",
    "library(mclust) \n",
    "library(RColorBrewer)\n",
    "\n",
    "# K <- 50 # break\n",
    "\n",
    "parser <- ArgumentParser()\n",
    "parser$add_argument(\"--task\", type = \"character\", default = \"wnn_rna\")\n",
    "parser$add_argument(\"--method\", type = \"character\", default = \"DBP_sa_bc\")\n",
    "parser$add_argument(\"--exp\", type = \"character\", default = \"e1\")\n",
    "parser$add_argument(\"--init_model\", type = \"character\", default = \"sp_00001899\")\n",
    "parser$add_argument(\"--K\", type = \"integer\", default = \"38\")\n",
    "o <- parser$parse_known_args()[[1]]\n",
    "\n",
    "config <- parseTOML(\"configs/data.toml\")[[o$task]]\n",
    "subset_names <- basename(config$raw_data_dirs)\n",
    "subset_ids <- sapply(seq_along(subset_names) - 1, toString)\n",
    "input_dirs <- pj(\"result\", o$task, o$exp, \"default\", \"predict\", o$init_model, paste0(\"subset_\", subset_ids))\n",
    "pp_dir <- pj(\"data\", \"processed\", o$task)\n",
    "output_dir <- pj(\"result\", \"analysis\", o$task, o$method, o$exp)\n",
    "break_index_dir <- pj(\"result\", o$task, o$exp, \"default\", \"predict\", o$init_model)\n",
    "mkdir(output_dir, remove_old = F)\n",
    "label_paths <- pj(config$raw_data_dirs, \"label\", \"meta.csv\")\n",
    "\n",
    "K <- o$K\n",
    "dim_c <- parseTOML(\"configs/model.toml\")[[\"default\"]]$dim_c\n",
    "qual_col_pals <- brewer.pal.info[brewer.pal.info$category == 'qual',]\n",
    "dcols <- unlist(mapply(brewer.pal, qual_col_pals$maxcolors, rownames(qual_col_pals)))\n",
    "l <- 5  # figure size\n",
    "L <- 8   # figure size\n",
    "m <- 0.5  # legend margin\n"
   ]
  },
  {
   "attachments": {},
   "cell_type": "markdown",
   "metadata": {},
   "source": [
    "## Load model outputs"
   ]
  },
  {
   "cell_type": "code",
   "execution_count": null,
   "metadata": {
    "vscode": {
     "languageId": "r"
    }
   },
   "outputs": [],
   "source": [
    "z_list <- list()\n",
    "w_list <- list()\n",
    "rna_bc_list <- list()\n",
    "cell_name_list <- list()\n",
    "label_list1 <- list()\n",
    "label_list2 <- list()\n",
    "subset_name_list <- list()\n",
    "S <- length(subset_names)\n",
    "for (i in seq_along(subset_names)) {\n",
    "    subset_name <- subset_names[i]\n",
    "    z_dir       <- pj(input_dirs[i], \"z\", \"joint\")\n",
    "    w_dir       <- pj(input_dirs[i], \"w\", \"joint\")\n",
    "    rna_bc_dir  <- pj(input_dirs[i], \"x_bc\", \"rna\")\n",
    "    fnames <- dir(path = z_dir, pattern = \".csv$\")\n",
    "    fnames <- str_sort(fnames, decreasing = F)\n",
    "\n",
    "    z_subset_list <- list()\n",
    "    w_subset_list <- list()\n",
    "    rna_bc_subset_list <- list()\n",
    "\n",
    "    N <- length(fnames)\n",
    "    for (n in seq_along(fnames)) {\n",
    "        message(paste0(\"Loading Subset \", i, \"/\", S, \", File \", n, \"/\", N))\n",
    "        z_subset_list[[n]] <- read.csv(file.path(z_dir, fnames[n]), header = F)\n",
    "        w_subset_list[[n]] <- read.csv(file.path(w_dir, fnames[n]), header = F)\n",
    "        rna_bc_subset_list[[n]] <- read.csv(file.path(rna_bc_dir, fnames[n]), header = F)\n",
    "\n",
    "    }\n",
    "    z_list[[subset_name]] <- bind_rows(z_subset_list)\n",
    "    w_list[[subset_name]] <- bind_rows(w_subset_list)\n",
    "    rna_bc_list[[subset_name]] <- bind_rows(rna_bc_subset_list)\n",
    "\n",
    "    cell_name_list[[subset_name]] <- read.csv(pj(pp_dir, paste0(\"subset_\", subset_ids[i]),\n",
    "        \"cell_names.csv\"), header = T)[, 2]\n",
    "    if (\"lung_ts\" %in% o$task){\n",
    "        label_list1[[subset_name]] <- read.csv(label_paths[i], header = T)[, \"Celltypes1\"]\n",
    "        label_list2[[subset_name]] <- read.csv(label_paths[i], header = T)[, \"Celltypes_updated_July_2020\"]\n",
    "    }else if(\"wnn_rna\" %in% o$task){\n",
    "        label_list1[[subset_name]] <- read.csv(label_paths[i], header = T)[, \"celltype.l1\"]\n",
    "        label_list2[[subset_name]] <- read.csv(label_paths[i], header = T)[, \"celltype.l2\"]\n",
    "    }else if(\"ga\" %in% o$task){\n",
    "        label_list1[[subset_name]] <- read.csv(label_paths[i], header = T)[, \"celltype\"]\n",
    "        label_list2[[subset_name]] <- read.csv(label_paths[i], header = T)[,  \"batch\"]\n",
    "    }else if(\"sim1\" %in% o$task){\n",
    "        label_list1[[subset_name]] <- read.csv(label_paths[i], header = T)[, \"Group\"]\n",
    "        label_list2[[subset_name]] <- read.csv(label_paths[i], header = T)[, \"Group\"]\n",
    "    }\n",
    "    subset_name_list[[subset_name]] <- rep(subset_name, length(cell_name_list[[subset_name]]))\n",
    "}"
   ]
  },
  {
   "attachments": {},
   "cell_type": "markdown",
   "metadata": {},
   "source": [
    "## Create seurat object"
   ]
  },
  {
   "cell_type": "code",
   "execution_count": null,
   "metadata": {
    "vscode": {
     "languageId": "r"
    }
   },
   "outputs": [],
   "source": [
    "rna_bc <- t(data.matrix(bind_rows(rna_bc_list)))\n",
    "colnames(rna_bc) <- do.call(\"c\", unname(cell_name_list))\n",
    "rownames(rna_bc) <- read.csv(pj(pp_dir, \"feat\", \"feat_names_rna.csv\"), header = T)[, 2]\n",
    "obj <- CreateSeuratObject(counts = rna_bc, assay = \"rna_bc\")\n",
    "\n",
    "annotation <- GetGRangesFromEnsDb(EnsDb.Hsapiens.v86)\n",
    "# seqlevelsStyle(annotation) <- \"UCSC\"\n",
    "genome(annotation) <- \"hg38\"\n",
    "\n",
    "z <- data.matrix(bind_rows(z_list))\n",
    "w <- data.matrix(bind_rows(w_list))\n",
    "c <- z[, 1:dim_c]*w\n",
    "\n",
    "# break\n",
    "index <- read.csv(pj(break_index_dir, \"break_index.csv\"), header = FALSE)\n",
    "index <- index+1\n",
    "names(index) <- \"id\"\n",
    "tc <- data.frame(id = 1:dim(w)[2], y = t(c)) \n",
    "loc <- match(index$id,tc$id)\n",
    "c_ord <- tc[loc,]\n",
    "c_bre <- c_ord[1:K, !colnames(c_ord) %in% c(\"id\") ]\n",
    "emc <- data.matrix(t(c_bre))\n",
    "\n",
    "# for umap\n",
    "colnames(emc) <- paste0(\"F_\", seq_len(ncol(emc)))\n",
    "rownames(emc) <- colnames(obj)\n",
    "obj[[\"emc\"]] <- CreateDimReducObject(embeddings = emc, key = \"F_\", assay = \"rna_bc\")\n",
    "\n",
    "# # for feature plot\n",
    "# aemc <- data.matrix(t(abs(c_bre)))\n",
    "# # aemc <- data.matrix(t(c_bre))\n",
    "# colnames(aemc) <- paste0(\"F_\", seq_len(ncol(aemc)))\n",
    "# rownames(aemc) <- colnames(obj)\n",
    "# obj[[\"aemc\"]] <- CreateDimReducObject(embeddings = aemc, key = \"F_\", assay = \"rna_bc\")\n",
    "\n",
    "\n",
    "obj@meta.data$celltype1 <- do.call(\"c\", unname(label_list1))\n",
    "obj@meta.data$celltype2 <- do.call(\"c\", unname(label_list2))\n",
    "obj@meta.data$batch <- do.call(\"c\", unname(subset_name_list))\n",
    "table(obj@meta.data$batch)[unique(obj@meta.data$batch)]\n",
    "\n",
    "obj <- subset(obj, subset = nCount_rna_bc > 0)\n",
    "obj"
   ]
  },
  {
   "attachments": {},
   "cell_type": "markdown",
   "metadata": {},
   "source": [
    "## Preprocess data"
   ]
  },
  {
   "cell_type": "code",
   "execution_count": null,
   "metadata": {
    "vscode": {
     "languageId": "r"
    }
   },
   "outputs": [],
   "source": [
    "# DefaultAssay(obj) <- \"rna_bc\"\n",
    "# VariableFeatures(obj) <- rownames(obj)\n",
    "# obj <-  NormalizeData(obj) %>%\n",
    "#         # FindVariableFeatures(nfeatures = 2000) %>%\n",
    "#         ScaleData()\n"
   ]
  },
  {
   "attachments": {},
   "cell_type": "markdown",
   "metadata": {},
   "source": [
    "## Visualize dimensionality reduction results"
   ]
  },
  {
   "cell_type": "code",
   "execution_count": null,
   "metadata": {
    "vscode": {
     "languageId": "r"
    }
   },
   "outputs": [],
   "source": [
    "obj <- RunUMAP(obj, reduction = 'emc', dims = 1:K, reduction.name = 'umap')\n",
    "# SaveH5Seurat(obj, pj(output_dir, \"obj_break.h5seurat\"), overwrite = TRUE)"
   ]
  },
  {
   "cell_type": "code",
   "execution_count": null,
   "metadata": {
    "vscode": {
     "languageId": "r"
    }
   },
   "outputs": [],
   "source": [
    "if (\"wnn_rna\" %in% o$task){\n",
    "    batch_cols <- col_8\n",
    "    celltype1_cols <- col_8\n",
    "    celltype2_cols <- col_31\n",
    "}else if(\"lung_ts\" %in% o$task){\n",
    "    batch_cols <- col_5\n",
    "    celltype1_cols <- col_16\n",
    "    celltype2_cols <- col_28\n",
    "}else if(\"ga\" %in% o$task){\n",
    "    batch_cols <- col_14\n",
    "    celltype1_cols <- col_14\n",
    "    celltype2_cols <- col_14\n",
    "}else if(\"sim1\" %in% o$task){\n",
    "    batch_cols <- col_5\n",
    "    celltype1_cols <- col_8\n",
    "    celltype2_cols <- col_8\n",
    "}\n",
    "\n",
    "dim_plot(obj, w = L, h = L, reduction = \"umap\", no_axes = T,\n",
    "    split.by = NULL, group.by = \"batch\", label = F, repel = T, \n",
    "    label.size = 4, pt.size = 0.1, cols = batch_cols, legend = F,\n",
    "    save_path = pj(output_dir, paste(o$method, \"merged_batch\", sep = \"_\")))\n",
    "     \n",
    "dim_plot(obj, w = L, h = L, reduction = \"umap\", no_axes = T,\n",
    "    split.by = NULL, group.by = \"celltype1\", label = F, repel = T, \n",
    "    label.size = 4, pt.size = 0.1, cols = celltype1_cols, legend = F,\n",
    "    save_path = pj(output_dir, paste(o$method, \"merged_label1\", sep = \"_\")))\n",
    "\n",
    "dim_plot(obj, w = L, h = L, reduction = \"umap\", no_axes = T,\n",
    "    split.by = NULL, group.by = \"celltype2\", label = F, repel = T, \n",
    "    label.size = 4, pt.size = 0.1, cols = celltype2_cols, legend = F,\n",
    "    save_path = pj(output_dir, paste(o$method, \"merged_label2\", sep = \"_\")))\n",
    "\n",
    "dim_plot(obj, w = L*6, h = L, reduction = \"umap\", no_axes = T,\n",
    "    split.by = \"batch\", group.by = \"celltype1\", label = F, repel = T, \n",
    "    label.size = 4, pt.size = 0.1, cols = celltype1_cols, legend = F,\n",
    "    save_path = pj(output_dir, paste(o$method, \"batch_split1\", sep = \"_\"))) \n",
    "\n",
    "dim_plot(obj, w = L*6, h = L, reduction = \"umap\", no_axes = T,\n",
    "    split.by = \"batch\", group.by = \"celltype2\", label = F, repel = T, \n",
    "    label.size = 4, pt.size = 0.1, cols = celltype2_cols, legend = F,\n",
    "    save_path = pj(output_dir, paste(o$method, \"batch_split2\", sep = \"_\"))) "
   ]
  }
 ],
 "metadata": {
  "kernelspec": {
   "display_name": "R",
   "language": "R",
   "name": "ir"
  },
  "language_info": {
   "codemirror_mode": "r",
   "file_extension": ".r",
   "mimetype": "text/x-r-source",
   "name": "R",
   "pygments_lexer": "r",
   "version": "4.1.1"
  },
  "orig_nbformat": 4,
  "vscode": {
   "interpreter": {
    "hash": "61a57a4b5406d2de388e2f91097d4e4bcd7d5f4a46f53a795aa28a02eed27fc5"
   }
  }
 },
 "nbformat": 4,
 "nbformat_minor": 2
}
