{
 "cells": [
  {
   "cell_type": "code",
   "execution_count": 1,
   "metadata": {},
   "outputs": [],
   "source": [
    "import os\n",
    "os.chdir(\"/root/data/DBP_sa_bc/\")\n",
    "from os.path import join as pj\n",
    "import argparse\n",
    "import sys\n",
    "sys.path.append(\"modules\")\n",
    "import utils\n",
    "import numpy as np\n",
    "import anndata as ad\n",
    "import matplotlib.pyplot as plt\n",
    "import matplotlib.ticker as ticker\n",
    "import seaborn as sns\n",
    "# import scipy\n",
    "import pandas as pd\n",
    "import re"
   ]
  },
  {
   "cell_type": "code",
   "execution_count": 2,
   "metadata": {},
   "outputs": [],
   "source": [
    "parser = argparse.ArgumentParser()\n",
    "parser.add_argument('--task', type=str, default='ga')\n",
    "parser.add_argument('--experiment', type=str, default='e1')\n",
    "parser.add_argument('--model', type=str, default='default')\n",
    "parser.add_argument('--init_model', type=str, default='sp_latest')\n",
    "parser.add_argument('--method', type=str, default='DBP_sa_bc')\n",
    "parser.add_argument('--K', type=int, default='35')\n",
    "o, _ = parser.parse_known_args()  # for python interactive\n",
    "# o = parser.parse_args()"
   ]
  },
  {
   "cell_type": "code",
   "execution_count": 3,
   "metadata": {},
   "outputs": [],
   "source": [
    "# Load break index\n",
    "K = o.K\n",
    "break_index_dir = pj(\"result\", o.task, o.experiment, o.model, \"predict\", o.init_model)\n",
    "\n",
    "if \"DBP_sa_bc\" in o.method:\n",
    "    result_dir = pj(\"result\", \"comparison\", o.task, o.method, o.experiment, o.init_model)\n",
    "else:\n",
    "    result_dir = pj(\"result\", \"comparison\", o.task, o.method)\n",
    "cfg_task = re.sub(\"_atlas|_generalize|_transfer|_ref_.*\", \"\", o.task)\n",
    "data_config = utils.load_toml(\"configs/data.toml\")[cfg_task]\n",
    "for k, v in data_config.items():\n",
    "    vars(o)[k] = v\n",
    "model_config = utils.load_toml(\"configs/model.toml\")[\"default\"]\n",
    "if o.model != \"default\":\n",
    "    model_config.update(utils.load_toml(\"configs/model.toml\")[o.model])\n",
    "for k, v in model_config.items():\n",
    "    vars(o)[k] = v\n",
    "o.s_joint, o.combs, *_ = utils.gen_all_batch_ids(o.s_joint, o.combs)\n",
    "output_dir = pj(\"result\", \"analysis\", o.task, o.method, o.experiment, \"fa\")\n"
   ]
  },
  {
   "cell_type": "code",
   "execution_count": 4,
   "metadata": {},
   "outputs": [
    {
     "name": "stdout",
     "output_type": "stream",
     "text": [
      "Loading predicted variables ...\n",
      "Loading subset 0: z, joint\n"
     ]
    },
    {
     "name": "stderr",
     "output_type": "stream",
     "text": [
      "100%|██████████| 109/109 [00:00<00:00, 126.12it/s]\n"
     ]
    },
    {
     "name": "stdout",
     "output_type": "stream",
     "text": [
      "Loading subset 0: w, joint\n"
     ]
    },
    {
     "name": "stderr",
     "output_type": "stream",
     "text": [
      "100%|██████████| 109/109 [00:00<00:00, 231.25it/s]\n"
     ]
    },
    {
     "name": "stdout",
     "output_type": "stream",
     "text": [
      "Loading subset 0: EW, joint\n"
     ]
    },
    {
     "name": "stderr",
     "output_type": "stream",
     "text": [
      "100%|██████████| 109/109 [00:00<00:00, 148.63it/s]\n"
     ]
    },
    {
     "name": "stdout",
     "output_type": "stream",
     "text": [
      "Loading subset 0: EA, joint\n"
     ]
    },
    {
     "name": "stderr",
     "output_type": "stream",
     "text": [
      "100%|██████████| 1/1 [00:00<00:00,  9.54it/s]\n"
     ]
    },
    {
     "name": "stdout",
     "output_type": "stream",
     "text": [
      "Loading subset 0: A, joint\n"
     ]
    },
    {
     "name": "stderr",
     "output_type": "stream",
     "text": [
      "100%|██████████| 1/1 [00:00<00:00, 11.08it/s]\n"
     ]
    },
    {
     "name": "stdout",
     "output_type": "stream",
     "text": [
      "Converting to numpy ...\n",
      "Converting subset 0: s, joint\n",
      "Converting subset 0: z, joint\n",
      "Converting subset 0: w, joint\n",
      "Converting subset 0: EW, joint\n",
      "Converting subset 0: EA, joint\n",
      "Converting subset 0: A, joint\n"
     ]
    }
   ],
   "source": [
    "# Load predicted latent variables\n",
    "o.mods = [\"rna\"]\n",
    "o.pred_dir = pj(\"result\", o.task, o.experiment, o.model, \"predict\", o.init_model)\n",
    "pred = utils.load_predicted(o, input=False)"
   ]
  },
  {
   "cell_type": "code",
   "execution_count": 5,
   "metadata": {},
   "outputs": [
    {
     "name": "stdout",
     "output_type": "stream",
     "text": [
      "['B.Cell' 'Endocrine.Cell' 'Endothelial.Cell' 'Epithial.Cell'\n",
      " 'Fibroblasts' 'Macrophages' 'Mast.Cell' 'Parietal.Cell' 'T.Cell']\n"
     ]
    }
   ],
   "source": [
    "# Load genes\n",
    "genes = pd.read_csv(pj(\"data\", \"processed\", o.task, \"feat\", \"feat_names_rna.csv\"), header=0, index_col=0)\n",
    "genes = genes[\"x\"]\n",
    "genes = np.array(genes)\n",
    "\n",
    "# Load labels\n",
    "if o.task == \"wnn_rna\":\n",
    "    labels1 = []\n",
    "    labels2 = []\n",
    "    for raw_data_dir in o.raw_data_dirs:\n",
    "        label = utils.load_csv(pj(raw_data_dir, \"label\", \"meta.csv\"))\n",
    "        labels1 += utils.transpose_list(label)[10][1:]\n",
    "        # labels1 += utils.transpose_list(label)[13][1:]\n",
    "        labels2 += utils.transpose_list(label)[11][1:]\n",
    "    labels1 = np.array(labels1)\n",
    "    labels2 = np.array(labels2)\n",
    "    print(np.unique(labels1))\n",
    "    print(np.unique(labels2))\n",
    "elif o.task == \"lung_ts\":\n",
    "    labels1 = []\n",
    "    labels2 = []\n",
    "    for raw_data_dir in o.raw_data_dirs:\n",
    "        label = utils.load_csv(pj(raw_data_dir, \"label\", \"meta.csv\"))\n",
    "        labels1 += utils.transpose_list(label)[14][1:]\n",
    "        labels2 += utils.transpose_list(label)[13][1:]\n",
    "    labels1 = np.array(labels1)\n",
    "    labels2 = np.array(labels2)\n",
    "    print(np.unique(labels1))\n",
    "    print(np.unique(labels2))\n",
    "elif o.task == \"ga\":\n",
    "    labels1 = []\n",
    "    # labels2 = []\n",
    "    for raw_data_dir in o.raw_data_dirs:\n",
    "        label = utils.load_csv(pj(raw_data_dir, \"label\", \"meta.csv\"))\n",
    "        labels1 += utils.transpose_list(label)[4][1:]\n",
    "        # labels2 += utils.transpose_list(label)[13][1:]\n",
    "    labels1 = np.array(labels1)\n",
    "    # labels2 = np.array(labels2)\n",
    "    print(np.unique(labels1))\n",
    "    # print(np.unique(labels2))\n",
    "\n",
    "# Load index   \n",
    "index = np.loadtxt(pj(break_index_dir, \"break_index.csv\"), delimiter=\",\", dtype=int)"
   ]
  },
  {
   "cell_type": "code",
   "execution_count": 6,
   "metadata": {},
   "outputs": [],
   "source": [
    "# break\n",
    "w = pred[\"w\"][\"joint\"]\n",
    "c = pred[\"z\"][\"joint\"][:, :o.dim_c]*w\n",
    "s = pred[\"s\"][\"joint\"]\n",
    "c_ord = c[:,index]\n",
    "c_bre = c_ord[:, :K]\n",
    "\n",
    "g = genes.shape[0]\n",
    "A = np.array(pred[\"A\"][\"joint\"][0:g,:]).astype(np.float32)\n",
    "A_ord = A[:,index]\n",
    "A_bre = A_ord[:, :K]"
   ]
  },
  {
   "cell_type": "code",
   "execution_count": 7,
   "metadata": {},
   "outputs": [],
   "source": [
    "# get loadings\n",
    "F = [\"F{}\".format(i+1) for i in range(K)]\n",
    "loadings = pd.DataFrame(A_bre)\n",
    "loadings.index = genes\n",
    "loadings.columns = F"
   ]
  },
  {
   "cell_type": "markdown",
   "metadata": {},
   "source": [
    "### plot all top genes"
   ]
  },
  {
   "cell_type": "code",
   "execution_count": null,
   "metadata": {},
   "outputs": [],
   "source": [
    "# # top or tail genes\n",
    "# F = [\"F{}\".format(i+1) for i in range(K)]\n",
    "# dfc = pd.DataFrame(c_bre.T)\n",
    "# dfc.index = F\n",
    "# dfc.columns = labels1"
   ]
  },
  {
   "cell_type": "code",
   "execution_count": null,
   "metadata": {},
   "outputs": [],
   "source": [
    "# plot top genes\n",
    "for f in F:\n",
    "    factor = pd.read_table(pj(output_dir, \"all_rnks\", f, f + \".rnk\"), sep='\\t',header=None)\n",
    "    \n",
    "    labels = factor[0].head(20)\n",
    "    values = factor[1].head(20)\n",
    "            \n",
    "    labels = labels.tolist()\n",
    "    # color = 'slategray'\n",
    "    fig, ax = plt.subplots()\n",
    "    # bars = ax.barh(range(len(labels)), values, color=\"white\", edgecolor=\"black\", linewidth=1,  height=0.8)\n",
    "    bars = ax.hlines(range(len(labels)),0, values, color='black', linewidth=1)\n",
    "\n",
    "    for i, value in enumerate(values):\n",
    "        ax.text(value + 0.02, i, labels[i], ha='left', va='center')\n",
    "        ax.scatter(value, i, color='black', s=30)\n",
    "        \n",
    "    ax.spines['top'].set_visible(True)\n",
    "    ax.spines['right'].set_visible(True)\n",
    "    ax.spines['bottom'].set_visible(True)\n",
    "    ax.spines['left'].set_visible(True)\n",
    "    \n",
    "    ax.set_xlim(0, max(values) * 1.2)\n",
    "    ax.set_yticks([])\n",
    "    # ax.set_xticks([])\n",
    "    ax.set_title(f)\n",
    "    ax.set_xlabel('Gene Weight') \n",
    "    ax.set_ylabel('Top genes')\n",
    "\n",
    "    # for i, bar in enumerate(bars):\n",
    "    #     ax.text(bar.get_width() + 0.02, bar.get_y() + bar.get_height() / 2, labels[i], ha='left', va='center')\n",
    "    #     ax.set_xlim(0, max(values) * 1.2)\n",
    "    #     ax.set_yticks([])\n",
    "    #     # ax.set_xticks([])\n",
    "    #     ax.set_title(f)\n",
    "    #     ax.set_xlabel('Gene Weight') \n",
    "    #     ax.set_ylabel('Top genes')\n",
    "    plt.savefig(pj(output_dir, \"all_rnks\", f, f + \"_top\" + \"_genes.png\"))"
   ]
  },
  {
   "cell_type": "markdown",
   "metadata": {},
   "source": [
    "### plot all tail genes"
   ]
  },
  {
   "cell_type": "code",
   "execution_count": null,
   "metadata": {},
   "outputs": [],
   "source": [
    "# plot tail genes\n",
    "for f in F:\n",
    "    factor = pd.read_table(pj(output_dir, \"all_rnks\", f, f + \".rnk\"), sep='\\t',header=None)\n",
    "    \n",
    "    labels = factor[0].tail(20)\n",
    "    values = abs(factor[1].tail(20))\n",
    "            \n",
    "    labels = labels.tolist()\n",
    "    # color = 'slategray'\n",
    "    fig, ax = plt.subplots()\n",
    "    # bars = ax.barh(range(len(labels)), values, color=\"white\", edgecolor=\"black\", linewidth=1,  height=0.8)\n",
    "    bars = ax.hlines(range(len(labels)),0, values, color='black', linewidth=1)\n",
    "\n",
    "    for i, value in enumerate(values):\n",
    "        ax.text(value + 0.02, i, labels[i], ha='left', va='center')\n",
    "        ax.scatter(value, i, color='black', s=30)\n",
    "        \n",
    "    ax.spines['top'].set_visible(True)\n",
    "    ax.spines['right'].set_visible(True)\n",
    "    ax.spines['bottom'].set_visible(True)\n",
    "    ax.spines['left'].set_visible(True)\n",
    "\n",
    "    ax.set_xlim(0, max(values) * 1.2)\n",
    "    ax.set_yticks([])\n",
    "    # ax.set_xticks([])\n",
    "    ax.set_title(f)\n",
    "    ax.set_xlabel('Gene Weight') \n",
    "    ax.set_ylabel('Tail genes')\n",
    "\n",
    "    # for i, bar in enumerate(bars):\n",
    "    #     ax.text(bar.get_width() + 0.02, bar.get_y() + bar.get_height() / 2, labels[i], ha='left', va='center')\n",
    "    #     ax.set_xlim(0, max(values) * 1.2)\n",
    "    #     ax.set_yticks([])\n",
    "    #     # ax.set_xticks([])\n",
    "    #     ax.set_title(f)\n",
    "    #     ax.set_xlabel('Gene Weight') \n",
    "    #     ax.set_ylabel('Top genes')\n",
    "    plt.savefig(pj(output_dir, \"all_rnks\", f, f + \"_tail\" + \"_genes.png\"))"
   ]
  },
  {
   "cell_type": "markdown",
   "metadata": {},
   "source": [
    "### plot single top genes"
   ]
  },
  {
   "cell_type": "code",
   "execution_count": 8,
   "metadata": {},
   "outputs": [
    {
     "data": {
      "image/png": "[encoded data removed]",
      "text/plain": [
       "<Figure size 432x288 with 1 Axes>"
      ]
     },
     "metadata": {
      "needs_background": "light"
     },
     "output_type": "display_data"
    }
   ],
   "source": [
    "f = \"F35\"\n",
    "factor = pd.read_table(pj(output_dir, \"all_rnks\", f, f + \".rnk\"), sep='\\t',header=None)\n",
    "\n",
    "labels = factor[0].head(20)\n",
    "values = abs(factor[1].head(20))\n",
    "        \n",
    "labels = labels.tolist()\n",
    "# color = 'slategray'\n",
    "fig, ax = plt.subplots()\n",
    "# bars = ax.barh(range(len(labels)), values, color=\"white\", edgecolor=\"black\", linewidth=1,  height=0.8)\n",
    "bars = ax.hlines(range(len(labels)),0, values, color='black', linewidth=1)\n",
    "\n",
    "for i, value in enumerate(values):\n",
    "    ax.text(value + 0.02, i, labels[i], ha='left', va='center')\n",
    "    ax.scatter(value, i, color='black', s=30)\n",
    "\n",
    "ax.spines['top'].set_visible(True)\n",
    "ax.spines['right'].set_visible(True)\n",
    "ax.spines['bottom'].set_visible(True)\n",
    "ax.spines['left'].set_visible(True)\n",
    "\n",
    "ax.set_xlim(0, max(values) * 1.2)\n",
    "ax.set_yticks([])\n",
    "# ax.set_xticks([])\n",
    "ax.set_title(f)\n",
    "ax.set_xlabel('Gene Weight') \n",
    "# ax.set_ylabel('Top genes')\n",
    "\n",
    "plt.savefig(pj(output_dir, \"all_rnks\", f, f + \"top\" + \"_genes.png\"))\n",
    "plt.savefig(pj(output_dir, \"all_rnks\", f, f + \"_top\" + \"_genes.pdf\"), format=\"pdf\", bbox_inches=\"tight\")"
   ]
  },
  {
   "cell_type": "markdown",
   "metadata": {},
   "source": [
    "### plot single tail genes"
   ]
  },
  {
   "cell_type": "code",
   "execution_count": null,
   "metadata": {},
   "outputs": [],
   "source": [
    "f = \"F22\"\n",
    "factor = pd.read_table(pj(output_dir, \"all_rnks\", f, f + \".rnk\"), sep='\\t',header=None)\n",
    "\n",
    "labels = factor[0].tail(20)\n",
    "values = factor[1].tail(20)\n",
    "        \n",
    "labels = labels.tolist()\n",
    "# color = 'slategray'\n",
    "fig, ax = plt.subplots(figsize=(10, 6))\n",
    "# bars = ax.barh(range(len(labels)), values, color=\"white\", edgecolor=\"black\", linewidth=1,  height=0.8)\n",
    "bars = ax.hlines(range(len(labels)),0, values, color='black', linewidth=1)\n",
    "\n",
    "for i, value in enumerate(values):\n",
    "    ax.text(value - 0.02, i, labels[i], ha='right', va='center')\n",
    "    ax.scatter(value, i, color='black', s=30)\n",
    "\n",
    "ax.spines['top'].set_visible(True)\n",
    "ax.spines['right'].set_visible(True)\n",
    "ax.spines['bottom'].set_visible(True)\n",
    "ax.spines['left'].set_visible(True)\n",
    "\n",
    "ax.set_xlim(min(values)-0.2, 0)\n",
    "ax.set_yticks([])\n",
    "# ax.set_xticks([])\n",
    "ax.set_title(f)\n",
    "# ax.set_xlabel('Gene Weight') \n",
    "# ax.set_ylabel('Top genes')\n",
    "\n",
    "plt.savefig(pj(output_dir, \"all_rnks\", f, f + \"_tail\" + \"_genes.png\"))\n",
    "plt.savefig(pj(output_dir, \"all_rnks\", f, f + \"_tail\" + \"_genes.pdf\"), format=\"pdf\", bbox_inches=\"tight\")"
   ]
  },
  {
   "cell_type": "code",
   "execution_count": null,
   "metadata": {},
   "outputs": [],
   "source": [
    "# another plot\n",
    "\n",
    "# data={\n",
    "#     'x':range(0, len(Factor[1])),\n",
    "#     'y':Factor[1],\n",
    "#     'Gene Name':Factor[0]\n",
    "# }\n",
    "\n",
    "# df=pd.DataFrame(data)\n",
    "# # plt.title('Factor 1')\n",
    "# # plt.xlabel('Genes')\n",
    "# # plt.ylabel('Gene weight')\n",
    "# plt.xticks([])\n",
    "# plt.scatter(df['x'],df['y'],c=\"gray\",s=1**1,zorder=2)\n",
    "\n",
    "# # selectedGenenames=np.hstack((F1_sort_gene_names_top,F1_sort_gene_names_tail))\n",
    "# selectedGenenames=Factor[0].tail(20)\n",
    "\n",
    "# mask=(df['Gene Name'].isin( selectedGenenames ) )\n",
    "# plt.scatter(df['x'][mask],df['y'][mask],c=\"black\",s=5**2,zorder=3)\n",
    "# # plt.subplots(figsize=(8,10))\n",
    "# plt.show()\n",
    "# # plt.savefig(pj(output_dir, \"all_rnks\", \"F3\", \"F3.png\"))"
   ]
  },
  {
   "cell_type": "code",
   "execution_count": null,
   "metadata": {},
   "outputs": [],
   "source": []
  }
 ],
 "metadata": {
  "kernelspec": {
   "display_name": "base",
   "language": "python",
   "name": "python3"
  },
  "language_info": {
   "codemirror_mode": {
    "name": "ipython",
    "version": 3
   },
   "file_extension": ".py",
   "mimetype": "text/x-python",
   "name": "python",
   "nbconvert_exporter": "python",
   "pygments_lexer": "ipython3",
   "version": "3.7.11"
  },
  "orig_nbformat": 4
 },
 "nbformat": 4,
 "nbformat_minor": 2
}
