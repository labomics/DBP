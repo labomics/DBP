{
 "cells": [
  {
   "cell_type": "markdown",
   "metadata": {},
   "source": [
    "# Factorization using LDVAE"
   ]
  },
  {
   "cell_type": "code",
   "execution_count": null,
   "metadata": {},
   "outputs": [],
   "source": [
    "import os\n",
    "os.chdir(\"/root/data/DBP_sa_bc/\")\n",
    "from os.path import join as pj\n",
    "import argparse\n",
    "import sys\n",
    "sys.path.append(\"modules\")\n",
    "import utils\n",
    "import numpy as np\n",
    "import anndata as ad\n",
    "import re\n",
    "# import scanpy as sc\n",
    "import os\n",
    "import pandas as pd\n",
    "import matplotlib.pyplot as plt\n",
    "\n",
    "import scvi\n"
   ]
  },
  {
   "cell_type": "code",
   "execution_count": null,
   "metadata": {},
   "outputs": [],
   "source": [
    "parser = argparse.ArgumentParser()\n",
    "parser.add_argument('--task', type=str, default='wnn_rna')\n",
    "parser.add_argument('--experiment', type=str, default='e1')\n",
    "parser.add_argument('--model', type=str, default='default')\n",
    "parser.add_argument('--init_model', type=str, default='sp_00001899')\n",
    "parser.add_argument('--method', type=str, default='LDVAE')\n",
    "parser.add_argument('--K', type=int, default='50')\n",
    "o, _ = parser.parse_known_args()  # for python interactive\n",
    "# o = parser.parse_args()\n",
    "\n",
    "K = o.K"
   ]
  },
  {
   "cell_type": "code",
   "execution_count": null,
   "metadata": {},
   "outputs": [],
   "source": [
    "result_dir = pj(\"result\", \"comparison\", o.task, o.method, str(o.K))\n",
    "data_dir = pj(\"data\", \"processed\", o.task)\n",
    "cfg_task = re.sub(\"_atlas|_generalize|_transfer|_ref_.*\", \"\", o.task) # dogma_full\n",
    "data_config = utils.load_toml(\"configs/data.toml\")[cfg_task]\n",
    "for k, v in data_config.items():\n",
    "    vars(o)[k] = v\n",
    "model_config = utils.load_toml(\"configs/model.toml\")[\"default\"]\n",
    "if o.model != \"default\":\n",
    "    model_config.update(utils.load_toml(\"configs/model.toml\")[o.model])\n",
    "for k, v in model_config.items():\n",
    "    vars(o)[k] = v\n",
    "o.s_joint, o.combs, *_ = utils.gen_all_batch_ids(o.s_joint, o.combs)\n",
    "utils.mkdirs(result_dir, remove_old=False)"
   ]
  },
  {
   "cell_type": "markdown",
   "metadata": {},
   "source": [
    "## Load preprossed data"
   ]
  },
  {
   "cell_type": "code",
   "execution_count": null,
   "metadata": {},
   "outputs": [],
   "source": [
    "o.mods = [\"rna\"]\n",
    "o.pred_dir = pj(\"result\", o.task, o.experiment, o.model, \"predict\", o.init_model)\n",
    "pred = utils.load_predicted(o, joint_latent=False, input=True, group_by = \"subset\")"
   ]
  },
  {
   "cell_type": "code",
   "execution_count": null,
   "metadata": {},
   "outputs": [],
   "source": [
    "# get counts and masks\n",
    "counts = {\"rna\": []}\n",
    "masks = {\"rna\": []}\n",
    "s = {\"rna\": []}\n",
    "for batch_id in pred.keys():\n",
    "    for m in counts.keys():\n",
    "        if m in pred[batch_id][\"x\"].keys():\n",
    "            counts[m].append(pred[batch_id][\"x\"][m])\n",
    "            s[m].append(pred[batch_id][\"s\"][m])\n",
    "            mask_dir = pj(data_dir, \"subset_\"+str(batch_id), \"mask\")\n",
    "            mask = np.array(utils.load_csv(pj(mask_dir, m+\".csv\"))[1][1:]).astype(bool)\n",
    "            masks[m].append(mask)\n",
    "        else:\n",
    "            counts[m].append(None)\n",
    "\n",
    "counts[\"nbatches\"] = len(pred)"
   ]
  },
  {
   "cell_type": "code",
   "execution_count": null,
   "metadata": {},
   "outputs": [],
   "source": [
    "# feature intersection\n",
    "for m in masks.keys():\n",
    "    mask = np.array(masks[m]).prod(axis=0).astype(bool)\n",
    "    for i, count in enumerate(counts[m]):\n",
    "        if count is not None:\n",
    "            counts[m][i] = count[:, mask]"
   ]
  },
  {
   "cell_type": "code",
   "execution_count": null,
   "metadata": {},
   "outputs": [],
   "source": [
    "if o.task == \"wnn_rna\":\n",
    "    labels = []\n",
    "    for raw_data_dir in o.raw_data_dirs:\n",
    "        label = utils.load_csv(pj(raw_data_dir, \"label\", \"meta.csv\"))\n",
    "        labels += utils.transpose_list(label)[10][1:]\n",
    "    labels = np.array(labels)\n",
    "    print(np.unique(labels))\n",
    "elif o.task == \"lung_ts\":\n",
    "    labels = []\n",
    "    for raw_data_dir in o.raw_data_dirs:\n",
    "        label = utils.load_csv(pj(raw_data_dir, \"label\", \"meta.csv\"))\n",
    "        labels += utils.transpose_list(label)[13][1:]\n",
    "    labels = np.array(labels)\n",
    "    print(np.unique(labels))"
   ]
  },
  {
   "cell_type": "markdown",
   "metadata": {},
   "source": [
    "## Create AnnData"
   ]
  },
  {
   "cell_type": "code",
   "execution_count": null,
   "metadata": {},
   "outputs": [],
   "source": [
    "# ann_data = ad.AnnData(np.concatenate(np.array(counts[\"rna\"]), axis=0))\n",
    "ann_data = ad.AnnData(np.concatenate(counts[\"rna\"]))\n",
    "ann_data.obs[\"batch\"] = np.concatenate(s[\"rna\"]).astype(str)\n",
    "ann_data.obs[\"batch\"] = ann_data.obs[\"batch\"]\n",
    "ann_data.obs[\"cell_types\"] = labels\n",
    "ann_data.layers[\"counts\"] = ann_data.X.copy()\n",
    "ann_data.raw = ann_data\n",
    "ann_data"
   ]
  },
  {
   "cell_type": "markdown",
   "metadata": {},
   "source": [
    "## Dimensionality reduction using LDVAE"
   ]
  },
  {
   "cell_type": "code",
   "execution_count": null,
   "metadata": {},
   "outputs": [],
   "source": [
    "scvi.model.LinearSCVI.setup_anndata(ann_data, batch_key=\"batch\")\n",
    "model = scvi.model.LinearSCVI(ann_data, n_latent=K)\n",
    "# model.train(max_epochs=250, plan_kwargs={'lr':5e-3}, check_val_every_n_epoch=10, use_gpu=0)\n",
    "model.train(use_gpu=0)"
   ]
  },
  {
   "cell_type": "markdown",
   "metadata": {},
   "source": [
    "## Save embedings"
   ]
  },
  {
   "cell_type": "code",
   "execution_count": null,
   "metadata": {},
   "outputs": [],
   "source": [
    "\n",
    "latent = model.get_latent_representation()\n",
    "np.savetxt(pj(result_dir, 'embeddings.csv'), latent, delimiter=',')"
   ]
  },
  {
   "cell_type": "code",
   "execution_count": 2,
   "metadata": {},
   "outputs": [
    {
     "ename": "NameError",
     "evalue": "name 'ann_data' is not defined",
     "output_type": "error",
     "traceback": [
      "\u001b[0;31m---------------------------------------------------------------------------\u001b[0m",
      "\u001b[0;31mNameError\u001b[0m                                 Traceback (most recent call last)",
      "Cell \u001b[0;32mIn[2], line 1\u001b[0m\n\u001b[0;32m----> 1\u001b[0m \u001b[43mann_data\u001b[49m\u001b[38;5;241m.\u001b[39mwrite(pj(result_dir, \u001b[38;5;124m'\u001b[39m\u001b[38;5;124madata.h5ad\u001b[39m\u001b[38;5;124m'\u001b[39m))\n",
      "\u001b[0;31mNameError\u001b[0m: name 'ann_data' is not defined"
     ]
    }
   ],
   "source": [
    "# save results\n",
    "ann_data.write(pj(result_dir, 'adata.h5ad'))"
   ]
  },
  {
   "cell_type": "code",
   "execution_count": null,
   "metadata": {},
   "outputs": [],
   "source": [
    "# # convert the notebook to html\n",
    "# system(paste0(\"jupyter nbconvert --to html comparison/\", o$method, \".ipynb\"))\n",
    "# system(paste0(\"mv comparison/\", o$method, \".html comparison/\", o$task, \"_\", o$method, \".html\"))"
   ]
  }
 ],
 "metadata": {
  "kernelspec": {
   "display_name": "Python 3",
   "language": "python",
   "name": "python3"
  },
  "language_info": {
   "codemirror_mode": {
    "name": "ipython",
    "version": 3
   },
   "file_extension": ".py",
   "mimetype": "text/x-python",
   "name": "python",
   "nbconvert_exporter": "python",
   "pygments_lexer": "ipython3",
   "version": "3.9.18"
  },
  "orig_nbformat": 4,
  "vscode": {
   "interpreter": {
    "hash": "b1e3c2719384e2d19ec10626801fc6329ad8ccefdee566dd9a5641ee2d882e84"
   }
  }
 },
 "nbformat": 4,
 "nbformat_minor": 2
}
