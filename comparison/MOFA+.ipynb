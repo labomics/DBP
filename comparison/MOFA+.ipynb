{
 "cells": [
  {
   "attachments": {},
   "cell_type": "markdown",
   "metadata": {},
   "source": [
    "# Factorization using MOFA"
   ]
  },
  {
   "cell_type": "code",
   "execution_count": null,
   "metadata": {
    "vscode": {
     "languageId": "r"
    }
   },
   "outputs": [],
   "source": [
    "source(\"/root/data/DBP_sa_bc/preprocess/utils.R\")\n",
    "setwd(\"/root/data/DBP_sa_bc/\")\n",
    "library(gridExtra)\n",
    "library(RColorBrewer)\n",
    "library(MOFA2)\n",
    "\n",
    "parser <- ArgumentParser()\n",
    "parser$add_argument(\"--task\", type = \"character\", default = \"wnn_rna\")\n",
    "parser$add_argument(\"--method\", type = \"character\", default = \"mofa\")\n",
    "parser$add_argument(\"--exp\", type = \"character\", default = \"e1\")\n",
    "parser$add_argument(\"--model\", type = \"character\", default = \"default\")\n",
    "parser$add_argument(\"--init_model\", type = \"character\", default = \"sp_00001899\")\n",
    "parser$add_argument(\"--K\", type = \"integer\", default = \"20\")\n",
    "o <- parser$parse_known_args()[[1]]\n",
    "\n",
    "config <- parseTOML(\"configs/data.toml\")[[o$task]]\n",
    "subset_names <- basename(config$raw_data_dirs)\n",
    "subset_ids <- sapply(seq_along(subset_names) - 1, toString)\n",
    "input_dirs <- pj(\"result\", o$task, o$exp, o$model, \"predict\", o$init_model, paste0(\"subset_\", subset_ids))\n",
    "pp_dir <- pj(\"data\", \"processed\", o$task)\n",
    "output_dir <- pj(\"result\", \"comparison\", o$task, o$method, o$K)\n",
    "mkdir(output_dir, remove_old = F)\n",
    "label_paths <- pj(config$raw_data_dirs, \"label\", \"meta.csv\")\n",
    "\n",
    "# K <- parseTOML(\"configs/model.toml\")[[\"default\"]]$dim_c\n",
    "K <- o$K\n",
    "l <- 7.5  # figure size\n",
    "L <- 10   # figure size\n",
    "m <- 0.5  # legend margin"
   ]
  },
  {
   "attachments": {},
   "cell_type": "markdown",
   "metadata": {},
   "source": [
    "## Load preprossed data"
   ]
  },
  {
   "cell_type": "code",
   "execution_count": null,
   "metadata": {
    "vscode": {
     "languageId": "r"
    }
   },
   "outputs": [],
   "source": [
    "rna_list <- list()\n",
    "cell_name_list <- list()\n",
    "label_list1 <- list()\n",
    "label_list2 <- list()\n",
    "subset_name_list <- list()\n",
    "S <- length(subset_names)\n",
    "for (i in seq_along(subset_names)) {\n",
    "    subset_name <- subset_names[i]\n",
    "    rna_dir  <- pj(input_dirs[i], \"x\", \"rna\")\n",
    "    fnames <- dir(path = rna_dir, pattern = \".csv$\")\n",
    "    fnames <- str_sort(fnames, decreasing = F)\n",
    "\n",
    "    rna_subset_list <- list()\n",
    "    N <- length(fnames)\n",
    "    for (n in seq_along(fnames)) {\n",
    "        message(paste0(\"Loading Subset \", i, \"/\", S, \", File \", n, \"/\", N))\n",
    "        rna_subset_list[[n]] <- read.csv(file.path(rna_dir, fnames[n]), header = F)\n",
    "    }\n",
    "    rna_list[[subset_name]] <- bind_rows(rna_subset_list)\n",
    "\n",
    "    cell_name_list[[subset_name]] <- read.csv(pj(pp_dir, paste0(\"subset_\", subset_ids[i]),\n",
    "        \"cell_names.csv\"), header = T)[, 2]\n",
    "    if (\"lung_ts\" %in% o$task){\n",
    "        label_list1[[subset_name]] <- read.csv(label_paths[i], header = T)[, \"Celltypes1\"]\n",
    "        label_list2[[subset_name]] <- read.csv(label_paths[i], header = T)[, \"Celltypes_updated_July_2020\"]\n",
    "    }else if(\"wnn_rna\" %in% o$task){\n",
    "        label_list1[[subset_name]] <- read.csv(label_paths[i], header = T)[, \"celltype.l1\"]\n",
    "        label_list2[[subset_name]] <- read.csv(label_paths[i], header = T)[, \"celltype.l2\"]\n",
    "    }else if(\"scsim1-10\" %in% o$task){\n",
    "        label_list1[[subset_name]] <- read.csv(label_paths[i], header = T)[, \"celltypes\"]\n",
    "        label_list2[[subset_name]] <- read.csv(label_paths[i], header = T)[, \"celltypes\"]\n",
    "    }\n",
    "    subset_name_list[[subset_name]] <- rep(subset_name, length(cell_name_list[[subset_name]]))\n",
    "}"
   ]
  },
  {
   "attachments": {},
   "cell_type": "markdown",
   "metadata": {},
   "source": [
    "## Create seurat object"
   ]
  },
  {
   "cell_type": "code",
   "execution_count": null,
   "metadata": {
    "vscode": {
     "languageId": "r"
    }
   },
   "outputs": [],
   "source": [
    "cell_name <- do.call(\"c\", unname(cell_name_list))\n",
    "\n",
    "rna <- t(data.matrix(bind_rows(rna_list)))\n",
    "colnames(rna) <- cell_name\n",
    "rownames(rna) <- read.csv(pj(pp_dir, \"feat\", \"feat_names_rna.csv\"), header = T)[, 2]\n",
    "\n",
    "\n",
    "# remove missing features\n",
    "rna_mask_list <- list()\n",
    "\n",
    "for (i in seq_along(subset_names)) {\n",
    "    subset_name <- subset_names[i]\n",
    "    rna_mask_list[[subset_name]] <- read.csv(pj(pp_dir, paste0(\"subset_\", subset_ids[i]),\n",
    "        \"mask\", \"rna.csv\"), header = T)[, -1]\n",
    "}\n",
    "rna_mask <- as.logical(apply(data.matrix(bind_rows(rna_mask_list)), 2, prod))\n",
    "\n",
    "rna <- rna[rna_mask, ]\n",
    "\n",
    "\n",
    "obj <- CreateSeuratObject(counts = rna, assay = \"rna\")\n",
    "\n",
    "obj@meta.data$celltype1 <- do.call(\"c\", unname(label_list1))\n",
    "obj@meta.data$celltype2 <- do.call(\"c\", unname(label_list2))\n",
    "# obj@meta.data$l2 <- do.call(\"c\", unname(label_list))\n",
    "obj@meta.data$batch <- do.call(\"c\", unname(subset_name_list))\n",
    "# table(obj@meta.data$batch)[unique(obj@meta.data$batch)]\n",
    "\n",
    "obj <- subset(obj, subset = nCount_rna > 0)\n",
    "obj"
   ]
  },
  {
   "attachments": {},
   "cell_type": "markdown",
   "metadata": {},
   "source": [
    "## Normalization"
   ]
  },
  {
   "cell_type": "code",
   "execution_count": null,
   "metadata": {
    "vscode": {
     "languageId": "r"
    }
   },
   "outputs": [],
   "source": [
    "DefaultAssay(obj) <- \"rna\"\n",
    "VariableFeatures(obj) <- rownames(obj)\n",
    "obj <-  NormalizeData(obj) %>%\n",
    "        # FindVariableFeatures(nfeatures = 2000) %>%\n",
    "        ScaleData()"
   ]
  },
  {
   "attachments": {},
   "cell_type": "markdown",
   "metadata": {},
   "source": [
    "## Dimensionality reduction using MOFA+"
   ]
  },
  {
   "cell_type": "code",
   "execution_count": null,
   "metadata": {
    "vscode": {
     "languageId": "r"
    }
   },
   "outputs": [],
   "source": [
    "mofa <- create_mofa(obj, groups = \"batch\")\n",
    "mofa\n",
    "\n",
    "model_opts <- get_default_model_options(mofa)\n",
    "model_opts$num_factors <- K\n",
    "\n",
    "train_opts <- get_default_training_options(mofa)\n",
    "train_opts$seed <- 42\n",
    "train_opts$gpu_mode <- TRUE\n",
    "train_opts$verbose <- TRUE\n",
    "\n",
    "mofa <- prepare_mofa(\n",
    "    object = mofa,\n",
    "    model_options = model_opts,\n",
    "    training_options = train_opts\n",
    ")\n",
    "\n",
    "mofa <- run_mofa(mofa)\n",
    "\n",
    "factors <- get_factors(mofa)\n",
    "z_list <- list()\n",
    "for (batch in subset_names) {\n",
    "    z_list[[batch]] <- factors[[batch]]\n",
    "}\n",
    "\n",
    "z <- do.call(\"rbind\", z_list)\n",
    "a <- get_weights(mofa)"
   ]
  },
  {
   "cell_type": "markdown",
   "metadata": {},
   "source": [
    "## Save embedings and loadings"
   ]
  },
  {
   "cell_type": "code",
   "execution_count": null,
   "metadata": {
    "vscode": {
     "languageId": "r"
    }
   },
   "outputs": [],
   "source": [
    "write.csv(z, pj(output_dir, \"embeddings.csv\"))\n",
    "obj[[\"z\"]] <- CreateDimReducObject(embeddings = z, key = \"z_\", assay = \"rna\")\n",
    "write.csv(a$rna, pj(output_dir, \"loadings.csv\"))"
   ]
  },
  {
   "cell_type": "code",
   "execution_count": null,
   "metadata": {
    "vscode": {
     "languageId": "r"
    }
   },
   "outputs": [],
   "source": [
    "# z <- read.csv(pj(output_dir, \"embeddings.csv\"))\n",
    "# obj[[\"z\"]] <- CreateDimReducObject(embeddings = z, key = \"z_\", assay = \"rna\")"
   ]
  },
  {
   "attachments": {},
   "cell_type": "markdown",
   "metadata": {},
   "source": [
    "## Visualization"
   ]
  },
  {
   "cell_type": "code",
   "execution_count": null,
   "metadata": {
    "vscode": {
     "languageId": "r"
    }
   },
   "outputs": [],
   "source": [
    "obj <- RunUMAP(obj, reduction = 'z', dims = 1:dim(z)[2], reduction.name = \"umap\")\n",
    "SaveH5Seurat(obj, pj(output_dir, \"obj.h5seurat\"), overwrite = TRUE)"
   ]
  },
  {
   "cell_type": "code",
   "execution_count": null,
   "metadata": {
    "vscode": {
     "languageId": "r"
    }
   },
   "outputs": [],
   "source": [
    "# obj <- LoadH5Seurat(pj(output_dir, \"obj.h5seurat\"), assays = \"rna\", reductions = \"umap\")\n",
    "# obj\n",
    "\n",
    "if (\"wnn_rna\" %in% o$task){\n",
    "    batch_cols <- col_8\n",
    "    celltype1_cols <- col_8\n",
    "    celltype2_cols <- col_31\n",
    "}else if(\"lung_ts\" %in% o$task){\n",
    "    batch_cols <- col_5\n",
    "    celltype1_cols <- col_16\n",
    "    celltype2_cols <- col_28\n",
    "}\n",
    "\n",
    "\n",
    "dim_plot(obj, w = L, h = L, reduction = 'umap', no_axes = T,\n",
    "    split.by = NULL, group.by = \"batch\", label = F, repel = T, \n",
    "    label.size = 4, pt.size = 0.1, cols = batch_cols, legend = F,\n",
    "    save_path = pj(output_dir, paste(o$method, \"merged_batch\", sep = \"_\")))\n",
    "     \n",
    "dim_plot(obj, w = L, h = L, reduction = 'umap', no_axes = T,\n",
    "    split.by = NULL, group.by = \"celltype1\", label = F, repel = T, \n",
    "    label.size = 4, pt.size = 0.1, cols = celltype1_cols, legend = F,\n",
    "    save_path = pj(output_dir, paste(o$method, \"merged_label1\", sep = \"_\")))\n",
    "\n",
    "dim_plot(obj, w = L, h = L, reduction = 'umap', no_axes = T,\n",
    "    split.by = NULL, group.by = \"celltype2\", label = F, repel = T, \n",
    "    label.size = 4, pt.size = 0.1, cols = celltype2_cols, legend = F,\n",
    "    save_path = pj(output_dir, paste(o$method, \"merged_label2\", sep = \"_\")))\n",
    "\n",
    "dim_plot(obj, w = L*6, h = L, reduction = 'umap', no_axes = T,\n",
    "    split.by = \"batch\", group.by = \"celltype1\", label = F, repel = T, \n",
    "    label.size = 4, pt.size = 0.1, cols = celltype1_cols, legend = F,\n",
    "    save_path = pj(output_dir, paste(o$method, \"batch_split1\", sep = \"_\"))) \n",
    "\n",
    "dim_plot(obj, w = L*6, h = L, reduction = 'umap', no_axes = T,\n",
    "    split.by = \"batch\", group.by = \"celltype2\", label = F, repel = T, \n",
    "    label.size = 4, pt.size = 0.1, cols = celltype2_cols, legend = F,\n",
    "    save_path = pj(output_dir, paste(o$method, \"batch_split2\", sep = \"_\"))) "
   ]
  },
  {
   "cell_type": "code",
   "execution_count": null,
   "metadata": {
    "vscode": {
     "languageId": "r"
    }
   },
   "outputs": [],
   "source": [
    "# # convert the notebook to html\n",
    "# system(paste0(\"jupyter nbconvert --to html comparison/\", o$method, \".ipynb\"))\n",
    "# system(paste0(\"mv comparison/\", o$method, \".html comparison/\", o$task, \"_\", o$method, \".html\"))"
   ]
  }
 ],
 "metadata": {
  "interpreter": {
   "hash": "61a57a4b5406d2de388e2f91097d4e4bcd7d5f4a46f53a795aa28a02eed27fc5"
  },
  "kernelspec": {
   "display_name": "R",
   "language": "R",
   "name": "ir"
  },
  "language_info": {
   "codemirror_mode": "r",
   "file_extension": ".r",
   "mimetype": "text/x-r-source",
   "name": "R",
   "pygments_lexer": "r",
   "version": "4.1.1"
  },
  "orig_nbformat": 4
 },
 "nbformat": 4,
 "nbformat_minor": 2
}
