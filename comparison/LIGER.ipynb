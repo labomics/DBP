{
 "cells": [
  {
   "cell_type": "markdown",
   "metadata": {},
   "source": [
    "# Batch correction and factorization using LIGER"
   ]
  },
  {
   "cell_type": "code",
   "execution_count": null,
   "metadata": {
    "vscode": {
     "languageId": "r"
    }
   },
   "outputs": [],
   "source": [
    "source(\"/root/data/DBP_sa_bc/preprocess/utils.R\")\n",
    "setwd(\"/root/data/DBP_sa_bc/\")\n",
    "library(gridExtra)\n",
    "library(RColorBrewer)\n",
    "library(SeuratWrappers)\n",
    "\n",
    "parser <- ArgumentParser()\n",
    "parser$add_argument(\"--task\", type = \"character\", default = \"wnn_rna\")\n",
    "parser$add_argument(\"--method\", type = \"character\", default = \"liger\")\n",
    "parser$add_argument(\"--exp\", type = \"character\", default = \"e1\")\n",
    "parser$add_argument(\"--model\", type = \"character\", default = \"default\")\n",
    "parser$add_argument(\"--init_model\", type = \"character\", default = \"sp_00001899\")\n",
    "parser$add_argument(\"--K\", type = \"integer\", default = \"20\")\n",
    "o <- parser$parse_known_args()[[1]]\n",
    "\n",
    "config <- parseTOML(\"configs/data.toml\")[[o$task]]\n",
    "subset_names <- basename(config$raw_data_dirs)\n",
    "subset_ids <- sapply(seq_along(subset_names) - 1, toString)\n",
    "input_dirs <- pj(\"result\", o$task, o$exp, o$model, \"predict\", o$init_model, paste0(\"subset_\", subset_ids))\n",
    "pp_dir <- pj(\"data\", \"processed\", o$task)\n",
    "output_dir <- pj(\"result\", \"comparison\", o$task, o$method, o$K)\n",
    "mkdir(output_dir, remove_old = F)\n",
    "label_paths <- pj(config$raw_data_dirs, \"label\", \"meta.csv\")\n",
    "\n",
    "# K <- parseTOML(\"configs/model.toml\")[[\"default\"]]$dim_c\n",
    "K <- o$K\n",
    "l <- 7.5  # figure size\n",
    "L <- 10   # figure size\n",
    "m <- 0.5  # legend margin"
   ]
  },
  {
   "cell_type": "markdown",
   "metadata": {},
   "source": [
    "## Load preprossed data"
   ]
  },
  {
   "cell_type": "code",
   "execution_count": null,
   "metadata": {
    "vscode": {
     "languageId": "r"
    }
   },
   "outputs": [],
   "source": [
    "rna_list <- list()\n",
    "cell_name_list <- list()\n",
    "label_list1 <- list()\n",
    "label_list2 <- list()\n",
    "subset_name_list <- list()\n",
    "S <- length(subset_names)\n",
    "for (i in seq_along(subset_names)) {\n",
    "    subset_name <- subset_names[i]\n",
    "    rna_dir  <- pj(input_dirs[i], \"x\", \"rna\")\n",
    "    fnames <- dir(path = rna_dir, pattern = \".csv$\")\n",
    "    fnames <- str_sort(fnames, decreasing = F)\n",
    "\n",
    "    rna_subset_list <- list()\n",
    "    N <- length(fnames)\n",
    "    for (n in seq_along(fnames)) {\n",
    "        message(paste0(\"Loading Subset \", i, \"/\", S, \", File \", n, \"/\", N))\n",
    "        rna_subset_list[[n]] <- read.csv(file.path(rna_dir, fnames[n]), header = F)\n",
    "    }\n",
    "    rna_list[[subset_name]] <- bind_rows(rna_subset_list)\n",
    "\n",
    "    cell_name_list[[subset_name]] <- read.csv(pj(pp_dir, paste0(\"subset_\", subset_ids[i]),\n",
    "        \"cell_names.csv\"), header = T)[, 2]\n",
    "    if (\"lung_ts\" %in% o$task){\n",
    "        label_list1[[subset_name]] <- read.csv(label_paths[i], header = T)[, \"Celltypes1\"]\n",
    "        label_list2[[subset_name]] <- read.csv(label_paths[i], header = T)[, \"Celltypes_updated_July_2020\"]\n",
    "    }else if(\"wnn_rna\" %in% o$task){\n",
    "        label_list1[[subset_name]] <- read.csv(label_paths[i], header = T)[, \"celltype.l1\"]\n",
    "        label_list2[[subset_name]] <- read.csv(label_paths[i], header = T)[, \"celltype.l2\"]\n",
    "    }\n",
    "    subset_name_list[[subset_name]] <- rep(subset_name, length(cell_name_list[[subset_name]]))\n",
    "}"
   ]
  },
  {
   "cell_type": "markdown",
   "metadata": {},
   "source": [
    "## Create seurat object"
   ]
  },
  {
   "cell_type": "code",
   "execution_count": null,
   "metadata": {
    "vscode": {
     "languageId": "r"
    }
   },
   "outputs": [],
   "source": [
    "cell_name <- do.call(\"c\", unname(cell_name_list))\n",
    "\n",
    "rna <- t(data.matrix(bind_rows(rna_list)))\n",
    "colnames(rna) <- cell_name\n",
    "rownames(rna) <- read.csv(pj(pp_dir, \"feat\", \"feat_names_rna.csv\"), header = T)[, 2]\n",
    "\n",
    "\n",
    "# remove missing features\n",
    "rna_mask_list <- list()\n",
    "for (i in seq_along(subset_names)) {\n",
    "    subset_name <- subset_names[i]\n",
    "    rna_mask_list[[subset_name]] <- read.csv(pj(pp_dir, paste0(\"subset_\", subset_ids[i]),\n",
    "        \"mask\", \"rna.csv\"), header = T)[, -1]\n",
    "}\n",
    "rna_mask <- as.logical(apply(data.matrix(bind_rows(rna_mask_list)), 2, prod))\n",
    "rna <- rna[rna_mask, ]\n",
    "\n",
    "\n",
    "obj <- CreateSeuratObject(counts = rna, assay = \"rna\")\n",
    "\n",
    "obj@meta.data$celltype1 <- do.call(\"c\", unname(label_list1))\n",
    "obj@meta.data$celltype2 <- do.call(\"c\", unname(label_list2))\n",
    "# obj@meta.data$l2 <- do.call(\"c\", unname(label_list))\n",
    "obj@meta.data$batch <- do.call(\"c\", unname(subset_name_list))\n",
    "table(obj@meta.data$batch)[unique(obj@meta.data$batch)]\n",
    "\n",
    "obj <- subset(obj, subset = nCount_rna > 0)\n",
    "obj"
   ]
  },
  {
   "cell_type": "markdown",
   "metadata": {},
   "source": [
    "## Dimensionality reduction using LIGER"
   ]
  },
  {
   "cell_type": "code",
   "execution_count": null,
   "metadata": {
    "vscode": {
     "languageId": "r"
    }
   },
   "outputs": [],
   "source": [
    "# LIGER\n",
    "DefaultAssay(obj) <- \"rna\"\n",
    "VariableFeatures(obj) <- rownames(obj)\n",
    "obj <-  NormalizeData(obj) %>%\n",
    "        ScaleData(do.center = FALSE, split.by = \"batch\") %>%\n",
    "        RunOptimizeALS(k = K, split.by = \"batch\", reduction.name = \"iNMF_rna\", reduction.key = \"rnaiNMF_\") %>% \n",
    "        RunQuantileNorm(split.by = \"batch\", reduction = \"iNMF_rna\", reduction.name = \"iNMF_rna\", reduction.key = \"rnaiNMF_\")"
   ]
  },
  {
   "cell_type": "markdown",
   "metadata": {},
   "source": [
    "## Save embedings"
   ]
  },
  {
   "cell_type": "code",
   "execution_count": null,
   "metadata": {
    "vscode": {
     "languageId": "r"
    }
   },
   "outputs": [],
   "source": [
    "z <- obj$iNMF_rna@cell.embeddings\n",
    "write.csv(z, pj(output_dir, \"embeddings.csv\"))"
   ]
  },
  {
   "cell_type": "markdown",
   "metadata": {},
   "source": [
    "## Visualization"
   ]
  },
  {
   "cell_type": "code",
   "execution_count": null,
   "metadata": {
    "vscode": {
     "languageId": "r"
    }
   },
   "outputs": [],
   "source": [
    "obj <- RunUMAP(obj, reduction = 'iNMF_rna', dims = 1:K, reduction.name = \"umap\")\n",
    "SaveH5Seurat(obj, pj(output_dir, \"obj.h5seurat\"), overwrite = TRUE)"
   ]
  },
  {
   "cell_type": "code",
   "execution_count": null,
   "metadata": {
    "vscode": {
     "languageId": "r"
    }
   },
   "outputs": [],
   "source": [
    "# obj <- LoadH5Seurat(pj(output_dir, \"obj.h5seurat\"), assays = \"rna\", reductions = \"umap\")\n",
    "# obj@meta.data$celltype1 <- do.call(\"c\", unname(label_list1))\n",
    "# obj@meta.data$celltype2 <- do.call(\"c\", unname(label_list2))\n",
    "# obj\n",
    "\n",
    "if (\"wnn_rna\" %in% o$task){\n",
    "    batch_cols <- col_8\n",
    "    celltype1_cols <- col_8\n",
    "    celltype2_cols <- col_31\n",
    "}else if(\"lung_ts\" %in% o$task){\n",
    "    batch_cols <- col_5\n",
    "    celltype1_cols <- col_16\n",
    "    celltype2_cols <- col_28\n",
    "}\n",
    "\n",
    "\n",
    "dim_plot(obj, w = L, h = L, reduction = 'umap', no_axes = T,\n",
    "    split.by = NULL, group.by = \"batch\", label = F, repel = T, \n",
    "    label.size = 4, pt.size = 0.1, cols = batch_cols, legend = F,\n",
    "    save_path = pj(output_dir, paste(o$method, \"merged_batch\", sep = \"_\")))\n",
    "     \n",
    "dim_plot(obj, w = L, h = L, reduction = 'umap', no_axes = T,\n",
    "    split.by = NULL, group.by = \"celltype1\", label = F, repel = T, \n",
    "    label.size = 4, pt.size = 0.1, cols = celltype1_cols, legend = F,\n",
    "    save_path = pj(output_dir, paste(o$method, \"merged_label1\", sep = \"_\")))\n",
    "\n",
    "dim_plot(obj, w = L, h = L, reduction = 'umap', no_axes = T,\n",
    "    split.by = NULL, group.by = \"celltype2\", label = F, repel = T, \n",
    "    label.size = 4, pt.size = 0.1, cols = celltype2_cols, legend = F,\n",
    "    save_path = pj(output_dir, paste(o$method, \"merged_label2\", sep = \"_\")))\n",
    "\n",
    "dim_plot(obj, w = L*6, h = L, reduction = 'umap', no_axes = T,\n",
    "    split.by = \"batch\", group.by = \"celltype1\", label = F, repel = T, \n",
    "    label.size = 4, pt.size = 0.1, cols = celltype1_cols, legend = F,\n",
    "    save_path = pj(output_dir, paste(o$method, \"batch_split1\", sep = \"_\"))) \n",
    "\n",
    "dim_plot(obj, w = L*6, h = L, reduction = 'umap', no_axes = T,\n",
    "    split.by = \"batch\", group.by = \"celltype2\", label = F, repel = T, \n",
    "    label.size = 4, pt.size = 0.1, cols = celltype2_cols, legend = F,\n",
    "    save_path = pj(output_dir, paste(o$method, \"batch_split2\", sep = \"_\"))) "
   ]
  },
  {
   "cell_type": "code",
   "execution_count": null,
   "metadata": {
    "vscode": {
     "languageId": "r"
    }
   },
   "outputs": [],
   "source": [
    "# # convert the notebook to html\n",
    "# system(paste0(\"jupyter nbconvert --to html comparison/\", o$method, \".ipynb\"))\n",
    "# system(paste0(\"mv comparison/\", o$method, \".html comparison/\", o$task, \"_\", o$method, \".html\"))"
   ]
  }
 ],
 "metadata": {
  "interpreter": {
   "hash": "61a57a4b5406d2de388e2f91097d4e4bcd7d5f4a46f53a795aa28a02eed27fc5"
  },
  "kernelspec": {
   "display_name": "R",
   "language": "R",
   "name": "ir"
  },
  "language_info": {
   "codemirror_mode": "r",
   "file_extension": ".r",
   "mimetype": "text/x-r-source",
   "name": "R",
   "pygments_lexer": "r",
   "version": "4.1.1"
  },
  "orig_nbformat": 4
 },
 "nbformat": 4,
 "nbformat_minor": 2
}
