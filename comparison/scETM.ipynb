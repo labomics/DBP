{
 "cells": [
  {
   "cell_type": "markdown",
   "metadata": {},
   "source": [
    "# Batch correction and factorization using scETM"
   ]
  },
  {
   "cell_type": "code",
   "execution_count": 1,
   "metadata": {},
   "outputs": [],
   "source": [
    "import os\n",
    "os.chdir(\"/root/data/DBP_sa_bc/\")\n",
    "from os.path import join as pj\n",
    "import argparse\n",
    "import sys\n",
    "sys.path.append(\"modules\")\n",
    "import utils\n",
    "import numpy as np\n",
    "import anndata as ad\n",
    "import pandas as pd\n",
    "import re\n",
    "from scETM import scETM, UnsupervisedTrainer, evaluate, prepare_for_transfer"
   ]
  },
  {
   "cell_type": "code",
   "execution_count": null,
   "metadata": {},
   "outputs": [],
   "source": [
    "parser = argparse.ArgumentParser()\n",
    "parser.add_argument('--task', type=str, default='wnn_rna')\n",
    "parser.add_argument('--experiment', type=str, default='e1')\n",
    "parser.add_argument('--model', type=str, default='default')\n",
    "parser.add_argument('--init_model', type=str, default='sp_00001899')\n",
    "parser.add_argument('--method', type=str, default='scETM')\n",
    "parser.add_argument('--K', type=int, default='20')\n",
    "o, _ = parser.parse_known_args()  # for python interactive\n",
    "# o = parser.parse_args()\n",
    "\n",
    "K = o.K"
   ]
  },
  {
   "cell_type": "code",
   "execution_count": null,
   "metadata": {},
   "outputs": [],
   "source": [
    "result_dir = pj(\"result\", \"comparison\", o.task, o.method, str(o.K))\n",
    "data_dir = pj(\"data\", \"processed\", o.task)\n",
    "cfg_task = re.sub(\"_atlas|_generalize|_transfer|_ref_.*\", \"\", o.task) # dogma_full\n",
    "data_config = utils.load_toml(\"configs/data.toml\")[cfg_task]\n",
    "for k, v in data_config.items():\n",
    "    vars(o)[k] = v\n",
    "model_config = utils.load_toml(\"configs/model.toml\")[\"default\"]\n",
    "if o.model != \"default\":\n",
    "    model_config.update(utils.load_toml(\"configs/model.toml\")[o.model])\n",
    "for k, v in model_config.items():\n",
    "    vars(o)[k] = v\n",
    "o.s_joint, o.combs, *_ = utils.gen_all_batch_ids(o.s_joint, o.combs)\n",
    "utils.mkdirs(result_dir, remove_old=False)"
   ]
  },
  {
   "cell_type": "markdown",
   "metadata": {},
   "source": [
    "## Load preprossed data"
   ]
  },
  {
   "cell_type": "code",
   "execution_count": null,
   "metadata": {},
   "outputs": [],
   "source": [
    "o.mods = [\"rna\"]\n",
    "o.pred_dir = pj(\"result\", o.task, o.experiment, o.model, \"predict\", o.init_model)\n",
    "pred = utils.load_predicted(o, joint_latent=False, input=True, group_by = \"subset\")"
   ]
  },
  {
   "cell_type": "code",
   "execution_count": null,
   "metadata": {},
   "outputs": [],
   "source": [
    "s = []\n",
    "for batch_id in pred.keys():\n",
    "    s.append(pred[batch_id][\"s\"][\"rna\"])\n",
    "s = np.concatenate(s, axis=0)"
   ]
  },
  {
   "cell_type": "code",
   "execution_count": null,
   "metadata": {},
   "outputs": [],
   "source": [
    "# get counts and masks\n",
    "counts = {\"rna\": []}\n",
    "masks = {\"rna\": []}\n",
    "for batch_id in pred.keys():\n",
    "    for m in counts.keys():\n",
    "        if m in pred[batch_id][\"x\"].keys():\n",
    "            counts[m].append(pred[batch_id][\"x\"][m])\n",
    "            mask_dir = pj(data_dir, \"subset_\"+str(batch_id), \"mask\")\n",
    "            mask = np.array(utils.load_csv(pj(mask_dir, m+\".csv\"))[1][1:]).astype(bool)\n",
    "            masks[m].append(mask)\n",
    "        else:\n",
    "            counts[m].append(None)\n",
    "\n",
    "counts[\"nbatches\"] = len(pred)"
   ]
  },
  {
   "cell_type": "code",
   "execution_count": null,
   "metadata": {},
   "outputs": [],
   "source": [
    "# feature intersection\n",
    "for m in masks.keys():\n",
    "    mask = np.array(masks[m]).prod(axis=0).astype(bool)\n",
    "    for i, count in enumerate(counts[m]):\n",
    "        if count is not None:\n",
    "            counts[m][i] = count[:, mask]"
   ]
  },
  {
   "cell_type": "markdown",
   "metadata": {},
   "source": [
    "## Create AnnData"
   ]
  },
  {
   "cell_type": "code",
   "execution_count": null,
   "metadata": {},
   "outputs": [],
   "source": [
    "if o.task == \"wnn_rna\":\n",
    "    labels = []\n",
    "    for raw_data_dir in o.raw_data_dirs:\n",
    "        label = utils.load_csv(pj(raw_data_dir, \"label\", \"meta.csv\"))\n",
    "        labels += utils.transpose_list(label)[10][1:]\n",
    "    labels = np.array(labels)\n",
    "    ann_data = ad.AnnData(np.concatenate(np.array(counts[\"rna\"]), axis=0))\n",
    "    ann_data.obs[\"batch_indices\"] = s\n",
    "    ann_data.obs[\"cell_types\"] = labels\n",
    "elif o.task == \"lung_ts\":\n",
    "    labels = []\n",
    "    for raw_data_dir in o.raw_data_dirs:\n",
    "        label = utils.load_csv(pj(raw_data_dir, \"label\", \"meta.csv\"))\n",
    "        labels += utils.transpose_list(label)[13][1:]\n",
    "    labels = np.array(labels)\n",
    "    ann_data = ad.AnnData(np.concatenate(np.array(counts[\"rna\"]), axis=0))\n",
    "    ann_data.obs[\"batch_indices\"] = s\n",
    "    ann_data.obs[\"cell_types\"] = labels\n",
    "ann_data"
   ]
  },
  {
   "cell_type": "code",
   "execution_count": null,
   "metadata": {},
   "outputs": [],
   "source": [
    "# ann_data = ad.AnnData(\n",
    "#     X = np.concatenate(np.array(counts[\"rna\"]), axis=0),\n",
    "#     obs = meta\n",
    "# )"
   ]
  },
  {
   "cell_type": "markdown",
   "metadata": {},
   "source": [
    "## Dimensionality reduction using scETM"
   ]
  },
  {
   "cell_type": "code",
   "execution_count": null,
   "metadata": {},
   "outputs": [],
   "source": [
    "obj_model = scETM(ann_data.n_vars, counts[\"nbatches\"], n_topics = K)\n",
    "trainer = UnsupervisedTrainer(obj_model, ann_data, test_ratio=0.1)\n",
    "# trainer.train(n_epochs = 12000, eval_every = 1000, batch_col = \"Batch\", cell_type_col = \"Cell type\")\n",
    "trainer.train()"
   ]
  },
  {
   "cell_type": "markdown",
   "metadata": {},
   "source": [
    "## Batch correction using scETM"
   ]
  },
  {
   "cell_type": "code",
   "execution_count": null,
   "metadata": {},
   "outputs": [],
   "source": [
    "obj_model.get_cell_embeddings_and_nll(ann_data, batch_col = \"batch_indices\")\n",
    "ann_data"
   ]
  },
  {
   "cell_type": "markdown",
   "metadata": {},
   "source": [
    "## Save embeddings"
   ]
  },
  {
   "cell_type": "code",
   "execution_count": null,
   "metadata": {},
   "outputs": [],
   "source": [
    "embed = ann_data.obsm['theta']\n",
    "np.savetxt(pj(result_dir, 'embeddings.csv'), embed, delimiter=',')"
   ]
  },
  {
   "cell_type": "code",
   "execution_count": null,
   "metadata": {},
   "outputs": [],
   "source": [
    "ann_data.write(pj(result_dir, 'adata.h5ad'))"
   ]
  }
 ],
 "metadata": {
  "kernelspec": {
   "display_name": "base",
   "language": "python",
   "name": "python3"
  },
  "language_info": {
   "codemirror_mode": {
    "name": "ipython",
    "version": 3
   },
   "file_extension": ".py",
   "mimetype": "text/x-python",
   "name": "python",
   "nbconvert_exporter": "python",
   "pygments_lexer": "ipython3",
   "version": "3.7.11"
  },
  "orig_nbformat": 4,
  "vscode": {
   "interpreter": {
    "hash": "61a57a4b5406d2de388e2f91097d4e4bcd7d5f4a46f53a795aa28a02eed27fc5"
   }
  }
 },
 "nbformat": 4,
 "nbformat_minor": 2
}
