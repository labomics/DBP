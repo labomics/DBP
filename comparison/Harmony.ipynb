{
 "cells": [
  {
   "attachments": {},
   "cell_type": "markdown",
   "metadata": {},
   "source": [
    "# Dimensionality reduction using PCA"
   ]
  },
  {
   "cell_type": "code",
   "execution_count": null,
   "metadata": {
    "vscode": {
     "languageId": "r"
    }
   },
   "outputs": [],
   "source": [
    "source(\"/root/data/DBP_sa_bc/preprocess/utils.R\")\n",
    "setwd(\"/root/data/DBP_sa_bc/\")\n",
    "library(RColorBrewer)\n",
    "library(harmony)\n",
    "\n",
    "parser <- ArgumentParser()\n",
    "parser$add_argument(\"--task\", type = \"character\", default = \"wnn_rna\")\n",
    "parser$add_argument(\"--method\", type = \"character\", default = \"harmony\")\n",
    "parser$add_argument(\"--exp\", type = \"character\", default = \"e1\")\n",
    "parser$add_argument(\"--model\", type = \"character\", default = \"default\")\n",
    "parser$add_argument(\"--init_model\", type = \"character\", default = \"sp_00001899\")\n",
    "parser$add_argument(\"--K\", type = \"integer\", default = \"20\")\n",
    "o <- parser$parse_known_args()[[1]]\n",
    "\n",
    "config <- parseTOML(\"configs/data.toml\")[[o$task]]\n",
    "subset_names <- basename(config$raw_data_dirs)\n",
    "subset_ids <- sapply(seq_along(subset_names) - 1, toString)\n",
    "input_dirs <- pj(\"result\", o$task, o$exp, o$model, \"predict\", o$init_model, paste0(\"subset_\", subset_ids))\n",
    "pp_dir <- pj(\"data\", \"processed\", o$task)\n",
    "output_dir1 <- pj(\"result\", \"comparison\", o$task, \"pca\", o$K)\n",
    "output_dir2 <- pj(\"result\", \"comparison\", o$task, o$method, o$K)\n",
    "mkdir(output_dir1, remove_old = F)\n",
    "mkdir(output_dir2, remove_old = F)\n",
    "label_paths <- pj(config$raw_data_dirs, \"label\", \"meta.csv\")\n",
    "\n",
    "# K <- parseTOML(\"configs/model.toml\")[[\"default\"]]$dim_c\n",
    "K <- o$K\n",
    "l <- 7.5  # figure size\n",
    "L <- 10   # figure size\n",
    "m <- 0.5  # legend margin"
   ]
  },
  {
   "attachments": {},
   "cell_type": "markdown",
   "metadata": {},
   "source": [
    "## Load preprossed data"
   ]
  },
  {
   "cell_type": "code",
   "execution_count": null,
   "metadata": {
    "vscode": {
     "languageId": "r"
    }
   },
   "outputs": [],
   "source": [
    "rna_list <- list()\n",
    "cell_name_list <- list()\n",
    "label_list1 <- list()\n",
    "label_list2 <- list()\n",
    "subset_name_list <- list()\n",
    "S <- length(subset_names)\n",
    "for (i in seq_along(subset_names)) {\n",
    "    subset_name <- subset_names[i]\n",
    "    rna_dir  <- pj(input_dirs[i], \"x\", \"rna\")\n",
    "    fnames <- dir(path = rna_dir, pattern = \".csv$\")\n",
    "    fnames <- str_sort(fnames, decreasing = F)\n",
    "\n",
    "    rna_subset_list <- list()\n",
    "    N <- length(fnames)\n",
    "    for (n in seq_along(fnames)) {\n",
    "        message(paste0(\"Loading Subset \", i, \"/\", S, \", File \", n, \"/\", N))\n",
    "        rna_subset_list[[n]] <- read.csv(file.path(rna_dir, fnames[n]), header = F)\n",
    "    }\n",
    "    rna_list[[subset_name]] <- bind_rows(rna_subset_list)\n",
    "\n",
    "    cell_name_list[[subset_name]] <- read.csv(pj(pp_dir, paste0(\"subset_\", subset_ids[i]),\n",
    "        \"cell_names.csv\"), header = T)[, 2]  \n",
    "\n",
    "    if (\"lung_ts\" %in% o$task){\n",
    "        label_list1[[subset_name]] <- read.csv(label_paths[i], header = T)[, \"Celltypes1\"]\n",
    "        label_list2[[subset_name]] <- read.csv(label_paths[i], header = T)[, \"Celltypes_updated_July_2020\"]\n",
    "    }else if(\"wnn_rna\" %in% o$task){\n",
    "        label_list1[[subset_name]] <- read.csv(label_paths[i], header = T)[, \"celltype.l1\"]\n",
    "        label_list2[[subset_name]] <- read.csv(label_paths[i], header = T)[, \"celltype.l2\"]\n",
    "    }else if(\"ga\" %in% o$task){\n",
    "        label_list1[[subset_name]] <- read.csv(label_paths[i], header = T)[, \"celltype\"]\n",
    "        label_list2[[subset_name]] <- read.csv(label_paths[i], header = T)[, \"celltype\"]\n",
    "    }   \n",
    "\n",
    "    subset_name_list[[subset_name]] <- rep(subset_name, length(cell_name_list[[subset_name]]))\n",
    "}"
   ]
  },
  {
   "attachments": {},
   "cell_type": "markdown",
   "metadata": {},
   "source": [
    "## Create seurat object"
   ]
  },
  {
   "cell_type": "code",
   "execution_count": null,
   "metadata": {
    "vscode": {
     "languageId": "r"
    }
   },
   "outputs": [],
   "source": [
    "cell_name <- do.call(\"c\", unname(cell_name_list))\n",
    "\n",
    "rna <- t(data.matrix(bind_rows(rna_list)))\n",
    "colnames(rna) <- cell_name\n",
    "rownames(rna) <- read.csv(pj(pp_dir, \"feat\", \"feat_names_rna.csv\"), header = T)[, 2]\n",
    "\n",
    "\n",
    "# remove missing features\n",
    "rna_mask_list <- list()\n",
    "for (i in seq_along(subset_names)) {\n",
    "    subset_name <- subset_names[i]\n",
    "    rna_mask_list[[subset_name]] <- read.csv(pj(pp_dir, paste0(\"subset_\", subset_ids[i]),\n",
    "        \"mask\", \"rna.csv\"), header = T)[, -1]\n",
    "}\n",
    "rna_mask <- as.logical(apply(data.matrix(bind_rows(rna_mask_list)), 2, prod))\n",
    "rna <- rna[rna_mask, ]\n",
    "\n",
    "obj <- CreateSeuratObject(counts = rna, assay = \"rna\")\n",
    "\n",
    "obj@meta.data$celltype1 <- do.call(\"c\", unname(label_list1))\n",
    "obj@meta.data$celltype2 <- do.call(\"c\", unname(label_list2))\n",
    "obj@meta.data$batch <- factor(x = do.call(\"c\", unname(subset_name_list)), levels = subset_names)\n",
    "table(obj@meta.data$batch)[unique(obj@meta.data$batch)]\n",
    "\n",
    "obj <- subset(obj, subset = nCount_rna > 0)\n",
    "obj"
   ]
  },
  {
   "attachments": {},
   "cell_type": "markdown",
   "metadata": {},
   "source": [
    "## Dimensionality reduction"
   ]
  },
  {
   "cell_type": "code",
   "execution_count": null,
   "metadata": {
    "vscode": {
     "languageId": "r"
    }
   },
   "outputs": [],
   "source": [
    "DefaultAssay(obj) <- \"rna\"\n",
    "VariableFeatures(obj) <- rownames(obj)\n",
    "obj <-  NormalizeData(obj) %>%\n",
    "        # FindVariableFeatures(nfeatures = 2000) %>%\n",
    "        ScaleData() %>%\n",
    "        RunPCA(reduction.name = \"pca_rna\", verbose = F, npcs = K)\n",
    "obj"
   ]
  },
  {
   "cell_type": "markdown",
   "metadata": {},
   "source": [
    "## Save embeddings of PCA"
   ]
  },
  {
   "cell_type": "code",
   "execution_count": null,
   "metadata": {
    "vscode": {
     "languageId": "r"
    }
   },
   "outputs": [],
   "source": [
    "pca <- Embeddings(object = obj, reduction = \"pca_rna\")\n",
    "write.csv(pca, pj(output_dir1, \"embeddings.csv\"))"
   ]
  },
  {
   "attachments": {},
   "cell_type": "markdown",
   "metadata": {},
   "source": [
    "## Visualization of PCA"
   ]
  },
  {
   "cell_type": "code",
   "execution_count": null,
   "metadata": {
    "vscode": {
     "languageId": "r"
    }
   },
   "outputs": [],
   "source": [
    "obj <- RunUMAP(obj, reduction = 'pca_rna', dims = 1:K, reduction.name = \"pca_umap\")\n",
    "SaveH5Seurat(obj, pj(output_dir1, \"obj.h5seurat\"), overwrite = TRUE)"
   ]
  },
  {
   "cell_type": "code",
   "execution_count": null,
   "metadata": {
    "vscode": {
     "languageId": "r"
    }
   },
   "outputs": [],
   "source": [
    "# obj <- LoadH5Seurat(pj(output_dir, \"obj.h5seurat\"), assays = \"rna\", reductions = \"umap\")\n",
    "if (\"wnn_rna\" %in% o$task){\n",
    "    batch_cols <- col_8\n",
    "    celltype1_cols <- col_8\n",
    "    celltype2_cols <- col_31\n",
    "}else if(\"lung_ts\" %in% o$task){\n",
    "    batch_cols <- col_5\n",
    "    celltype1_cols <- col_16\n",
    "    celltype2_cols <- col_28\n",
    "}else if(\"ga\" %in% o$task){\n",
    "    batch_cols <- col_14\n",
    "    celltype1_cols <- col_14\n",
    "    celltype2_cols <- col_14\n",
    "}\n",
    "\n",
    "dim_plot(obj, w = L, h = L, reduction = 'pca_umap', no_axes = T,\n",
    "    split.by = NULL, group.by = \"batch\", label = F, repel = T, \n",
    "    label.size = 4, pt.size = 0.1, cols = batch_cols, legend = T,\n",
    "    save_path = pj(output_dir1, paste(o$method, \"merged_batch\", sep = \"_\")))\n",
    "    \n",
    "dim_plot(obj, w = L, h = L, reduction = 'pca_umap', no_axes = T,\n",
    "    split.by = NULL, group.by = \"celltype1\", label = F, repel = T, \n",
    "    label.size = 4, pt.size = 0.1, cols = celltype1_cols, legend = T,\n",
    "    save_path = pj(output_dir1, paste(o$method, \"merged_label1\", sep = \"_\")))\n",
    "\n",
    "dim_plot(obj, w = L, h = L, reduction = 'pca_umap', no_axes = T,\n",
    "    split.by = NULL, group.by = \"celltype2\", label = F, repel = T, \n",
    "    label.size = 4, pt.size = 0.1, cols = celltype2_cols, legend = T,\n",
    "    save_path = pj(output_dir1, paste(o$method, \"merged_label2\", sep = \"_\")))\n",
    "\n",
    "dim_plot(obj, w = L*6, h = L, reduction = 'pca_umap', no_axes = T,\n",
    "    split.by = \"batch\", group.by = \"celltype1\", label = F, repel = T, \n",
    "    label.size = 4, pt.size = 0.1, cols = celltype1_cols, legend = T,\n",
    "    save_path = pj(output_dir1, paste(o$method, \"batch_split1\", sep = \"_\"))) \n",
    "\n",
    "dim_plot(obj, w = L*6, h = L, reduction = 'pca_umap', no_axes = T,\n",
    "    split.by = \"batch\", group.by = \"celltype2\", label = F, repel = T, \n",
    "    label.size = 4, pt.size = 0.1, cols = celltype2_cols, legend = T,\n",
    "    save_path = pj(output_dir1, paste(o$method, \"batch_split2\", sep = \"_\"))) \n"
   ]
  },
  {
   "attachments": {},
   "cell_type": "markdown",
   "metadata": {},
   "source": [
    "# Batch correction using Harmony"
   ]
  },
  {
   "cell_type": "code",
   "execution_count": null,
   "metadata": {
    "vscode": {
     "languageId": "r"
    }
   },
   "outputs": [],
   "source": [
    "# harmony\n",
    "obj <-  RunHarmony(obj, \"batch\", reduction = \"pca_rna\",  assay.use = \"rna\", project.dim = F,\n",
    "            reduction.save = \"harmony_rna\")"
   ]
  },
  {
   "cell_type": "markdown",
   "metadata": {},
   "source": [
    "## Save embeddings of Harmony"
   ]
  },
  {
   "cell_type": "code",
   "execution_count": null,
   "metadata": {
    "vscode": {
     "languageId": "r"
    }
   },
   "outputs": [],
   "source": [
    "harmony_rna <- Embeddings(object = obj, reduction = \"harmony_rna\")\n",
    "write.csv(harmony_rna, pj(output_dir2, \"embeddings.csv\"))"
   ]
  },
  {
   "attachments": {},
   "cell_type": "markdown",
   "metadata": {},
   "source": [
    "## Visualization of Harmony"
   ]
  },
  {
   "cell_type": "code",
   "execution_count": null,
   "metadata": {
    "vscode": {
     "languageId": "r"
    }
   },
   "outputs": [],
   "source": [
    "# obj <- LoadH5Seurat(pj(output_dir2, \"obj.h5seurat\"), assays = \"rna\", reductions = \"umap\")\n",
    "# obj\n",
    "# harmony_rna <- read.csv(pj(output_dir2, \"embeddings.csv\"), row.names = 1)\n",
    "# harmony_rna <- data.matrix(harmony_rna)\n",
    "# colnames(harmony_rna) <- paste0(\"c_\", seq_len(ncol(harmony_rna)))         \n",
    "# rownames(harmony_rna) <- colnames(obj)\n",
    "# obj[[\"harmony_rna\"]] <- CreateDimReducObject(embeddings = harmony_rna, key = \"c_\", assay = \"rna\")\n",
    "# obj\n",
    "# obj@meta.data$celltype1 <- do.call(\"c\", unname(label_list1))\n",
    "# obj@meta.data$celltype2 <- do.call(\"c\", unname(label_list2))"
   ]
  },
  {
   "cell_type": "code",
   "execution_count": null,
   "metadata": {
    "vscode": {
     "languageId": "r"
    }
   },
   "outputs": [],
   "source": [
    "obj <- RunUMAP(obj, reduction = 'harmony_rna', dims = 1:K, reduction.name = \"harmony_umap\")\n",
    "SaveH5Seurat(obj, pj(output_dir2, \"obj.h5seurat\"), overwrite = TRUE)"
   ]
  },
  {
   "cell_type": "code",
   "execution_count": null,
   "metadata": {
    "vscode": {
     "languageId": "r"
    }
   },
   "outputs": [],
   "source": [
    "if (\"wnn_rna\" %in% o$task){\n",
    "    batch_cols <- col_8\n",
    "    celltype1_cols <- col_8\n",
    "    celltype2_cols <- col_31\n",
    "}else if(\"lung_ts\" %in% o$task){\n",
    "    batch_cols <- col_5\n",
    "    celltype1_cols <- col_16\n",
    "    celltype2_cols <- col_28\n",
    "}else if(\"ga\" %in% o$task){\n",
    "    batch_cols <- col_14\n",
    "    celltype1_cols <- col_14\n",
    "    celltype2_cols <- col_14\n",
    "}\n",
    "\n",
    "\n",
    "dim_plot(obj, w = L, h = L, reduction = 'harmony_umap', no_axes = T,\n",
    "    split.by = NULL, group.by = \"batch\", label = F, repel = T, \n",
    "    label.size = 4, pt.size = 0.1, cols = batch_cols, legend = F,\n",
    "    save_path = pj(output_dir2, paste(o$method, \"merged_batch\", sep = \"_\")))\n",
    "     \n",
    "dim_plot(obj, w = L, h = L, reduction = 'harmony_umap', no_axes = T,\n",
    "    split.by = NULL, group.by = \"celltype1\", label = F, repel = T, \n",
    "    label.size = 4, pt.size = 0.1, cols = celltype1_cols, legend = F,\n",
    "    save_path = pj(output_dir2, paste(o$method, \"merged_label1\", sep = \"_\")))\n",
    "\n",
    "dim_plot(obj, w = L, h = L, reduction = 'harmony_umap', no_axes = T,\n",
    "    split.by = NULL, group.by = \"celltype2\", label = F, repel = T, \n",
    "    label.size = 4, pt.size = 0.1, cols = celltype2_cols, legend = F,\n",
    "    save_path = pj(output_dir2, paste(o$method, \"merged_label2\", sep = \"_\")))\n",
    "\n",
    "dim_plot(obj, w = L*6, h = L, reduction = 'harmony_umap', no_axes = T,\n",
    "    split.by = \"batch\", group.by = \"celltype1\", label = F, repel = T, \n",
    "    label.size = 4, pt.size = 0.1, cols = celltype1_cols, legend = F,\n",
    "    save_path = pj(output_dir2, paste(o$method, \"batch_split1\", sep = \"_\"))) \n",
    "\n",
    "dim_plot(obj, w = L*6, h = L, reduction = 'harmony_umap', no_axes = T,\n",
    "    split.by = \"batch\", group.by = \"celltype2\", label = F, repel = T, \n",
    "    label.size = 4, pt.size = 0.1, cols = celltype2_cols, legend = F,\n",
    "    save_path = pj(output_dir2, paste(o$method, \"batch_split2\", sep = \"_\"))) "
   ]
  },
  {
   "cell_type": "code",
   "execution_count": null,
   "metadata": {
    "vscode": {
     "languageId": "r"
    }
   },
   "outputs": [],
   "source": [
    "# # convert the notebook to html\n",
    "# system(paste0(\"jupyter nbconvert --to html comparison/\", o$method, \".ipynb\"))\n",
    "# system(paste0(\"mv comparison/\", o$method, \".html comparison/\", o$task, \"_\", o$method, \".html\"))"
   ]
  }
 ],
 "metadata": {
  "interpreter": {
   "hash": "31f2aee4e71d21fbe5cf8b01ff0e069b9275f58929596ceb00d14d90e3e16cd6"
  },
  "kernelspec": {
   "display_name": "R",
   "language": "R",
   "name": "ir"
  },
  "language_info": {
   "codemirror_mode": "r",
   "file_extension": ".r",
   "mimetype": "text/x-r-source",
   "name": "R",
   "pygments_lexer": "r",
   "version": "4.1.1"
  },
  "orig_nbformat": 4
 },
 "nbformat": 4,
 "nbformat_minor": 2
}
