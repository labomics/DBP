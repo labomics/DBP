{
 "cells": [
  {
   "cell_type": "code",
   "execution_count": 1,
   "metadata": {},
   "outputs": [],
   "source": [
    "import os\n",
    "os.chdir(\"/root/data/DBP_sa_bc/\")\n",
    "from os.path import join as pj\n",
    "import argparse\n",
    "import sys\n",
    "sys.path.append(\"modules\")\n",
    "import utils\n",
    "import numpy as np\n",
    "import scib\n",
    "import scib.metrics as me\n",
    "import anndata as ad\n",
    "import scipy\n",
    "import pandas as pd\n",
    "from scipy.stats import kurtosis\n",
    "import re\n",
    "from scipy.stats import f_oneway"
   ]
  },
  {
   "cell_type": "code",
   "execution_count": 2,
   "metadata": {},
   "outputs": [],
   "source": [
    "parser = argparse.ArgumentParser()\n",
    "parser.add_argument('--task', type=str, default='wnn_rna')\n",
    "parser.add_argument('--experiment', type=str, default='e1')\n",
    "parser.add_argument('--model', type=str, default='default')\n",
    "parser.add_argument('--init_model', type=str, default='sp_00001899')\n",
    "parser.add_argument('--method', type=str, default='liger')\n",
    "parser.add_argument('--K', type=int, default='50')\n",
    "o, _ = parser.parse_known_args()  # for python interactive\n",
    "# o = parser.parse_args()"
   ]
  },
  {
   "cell_type": "code",
   "execution_count": 3,
   "metadata": {},
   "outputs": [],
   "source": [
    "K = o.K\n",
    "break_index_dir = pj(\"result\", o.task, o.experiment, o.model, \"predict\", o.init_model)\n",
    "\n",
    "if \"DBP_sa_bc\" in o.method:\n",
    "    result_dir = pj(\"result\", \"comparison\", o.task, o.method, o.experiment, o.init_model)\n",
    "else:\n",
    "    result_dir = pj(\"result\", \"comparison\", o.task, o.method)\n",
    "cfg_task = re.sub(\"_atlas|_generalize|_transfer|_ref_.*\", \"\", o.task)\n",
    "data_config = utils.load_toml(\"configs/data.toml\")[cfg_task]\n",
    "for k, v in data_config.items():\n",
    "    vars(o)[k] = v\n",
    "model_config = utils.load_toml(\"configs/model.toml\")[\"default\"]\n",
    "if o.model != \"default\":\n",
    "    model_config.update(utils.load_toml(\"configs/model.toml\")[o.model])\n",
    "for k, v in model_config.items():\n",
    "    vars(o)[k] = v\n",
    "o.s_joint, o.combs, *_ = utils.gen_all_batch_ids(o.s_joint, o.combs)\n"
   ]
  },
  {
   "cell_type": "code",
   "execution_count": 4,
   "metadata": {},
   "outputs": [
    {
     "name": "stdout",
     "output_type": "stream",
     "text": [
      "['B' 'CD4 T' 'CD8 T' 'DC' 'Mono' 'NK' 'other' 'other T']\n"
     ]
    }
   ],
   "source": [
    "# Load cell type labels\n",
    "if o.task == \"wnn_rna\":\n",
    "    labels = []\n",
    "    for raw_data_dir in o.raw_data_dirs:\n",
    "        label = utils.load_csv(pj(raw_data_dir, \"label\", \"meta.csv\"))\n",
    "        labels += utils.transpose_list(label)[10][1:]\n",
    "    labels = np.array(labels)\n",
    "    print(np.unique(labels))\n",
    "elif o.task == \"lung_ts\":\n",
    "    labels = []\n",
    "    for raw_data_dir in o.raw_data_dirs:\n",
    "        label = utils.load_csv(pj(raw_data_dir, \"label\", \"meta.csv\"))\n",
    "        labels += utils.transpose_list(label)[13][1:]\n",
    "        # labels += utils.transpose_list(label)[14][1:]\n",
    "    labels = np.array(labels)\n",
    "    print(np.unique(labels))"
   ]
  },
  {
   "cell_type": "code",
   "execution_count": 5,
   "metadata": {},
   "outputs": [],
   "source": [
    "if o.method == \"DBP_sa_bc\":\n",
    "    # Load predicted latent variables\n",
    "    o.mods = [\"rna\"]\n",
    "    o.pred_dir = pj(\"result\", o.task, o.experiment, o.model, \"predict\", o.init_model)\n",
    "    pred = utils.load_predicted(o, input=True, batch_correct=True)\n",
    "    \n",
    "    w = pred[\"w\"][\"joint\"]\n",
    "    c = pred[\"z\"][\"joint\"][:, :o.dim_c]*w\n",
    "    s = pred[\"s\"][\"joint\"]\n",
    "    index = np.loadtxt(pj(break_index_dir, \"break_index.csv\"), delimiter=\",\", dtype=int)\n",
    "    c_ord = c[:,index]\n",
    "    c_bre = c_ord[:, :K]\n",
    "# x = pred[\"x\"][\"rna\"]\n",
    "# # x_bc = pred[\"x_bc\"][\"rna\"]\n",
    "    ngenes = pred[\"x\"][\"rna\"].shape[1]\n",
    "    A = np.array(pred[\"A\"][\"joint\"][:ngenes,:])\n",
    "    A_ord = A[:,index]\n",
    "    A_bre = A_ord[:, :K]\n",
    "    \n",
    "    z = c_bre\n",
    "    # x_r = x_bc\n",
    "    load = A_bre.astype(np.float32)\n",
    "    F = [\"F{}\".format(i+1) for i in range(z.shape[1])]\n",
    "    dfc = pd.DataFrame(abs(z))\n",
    "    # dfc = pd.DataFrame(z)\n",
    "    dfc = (dfc-dfc.min(axis=0))/(dfc.max(axis=0)-dfc.min(axis=0))\n",
    "    dfc.index = labels\n",
    "    dfc.columns = F\n",
    "elif o.method in [\"mofa\", \"liger\"]:\n",
    "    z = utils.load_csv(pj(result_dir, \"embeddings.csv\"))\n",
    "    z = np.array(z)[1:, 1:].astype(np.float32)\n",
    "    F = [\"F{}\".format(i+1) for i in range(z.shape[1])]\n",
    "    # F = [\"F{}\".format(i+1) for i in range(31)]\n",
    "    dfc = pd.DataFrame(abs(z))\n",
    "    # dfc = pd.DataFrame(z)\n",
    "    dfc = (dfc-dfc.min(axis=0))/(dfc.max(axis=0)-dfc.min(axis=0))\n",
    "    dfc.index = labels\n",
    "    dfc.columns = F\n",
    "    # load = utils.load_csv(pj(result_dir, \"loadings.csv\"))\n",
    "    # load = np.array(load)[1:, 1:].astype(np.float32)\n",
    "elif o.method in [\"LDVAE\",\"scETM\"]:\n",
    "    z = utils.load_csv(pj(result_dir, \"embeddings.csv\"))\n",
    "    z = np.array(z).astype(np.float32)\n",
    "    F = [\"F{}\".format(i+1) for i in range(z.shape[1])]\n",
    "    # F = [\"F{}\".format(i+1) for i in range(31)]\n",
    "    dfc = pd.DataFrame(abs(z))\n",
    "    # dfc = pd.DataFrame(z)\n",
    "    dfc = (dfc-dfc.min(axis=0))/(dfc.max(axis=0)-dfc.min(axis=0))\n",
    "    dfc.index = labels\n",
    "    dfc.columns = F"
   ]
  },
  {
   "cell_type": "code",
   "execution_count": null,
   "metadata": {},
   "outputs": [],
   "source": [
    "results = {}\n",
    "# l2/l1\n",
    "l1 = np.linalg.norm(z, ord=1, axis=0)\n",
    "l2 = np.linalg.norm(z, ord=2, axis=0)\n",
    "l2_l1 = l2/l1\n",
    "results['l2_l1'] = l2_l1.mean()\n",
    "print(\"l2_l1: \" + str(results['l2_l1']))\n",
    "\n",
    "# k4\n",
    "k4 = kurtosis(z)\n",
    "results['k4'] = k4.mean()\n",
    "print(\"k4: \" + str(results['k4']))\n",
    "\n",
    "# # HG\n",
    "# hg = -np.log(abs(z)**2 + 1)\n",
    "# results['hg'] = hg.mean()\n",
    "# print(\"hg: \" + str(results['hg']))\n",
    "\n",
    "l0 = 1 - np.count_nonzero(z)/np.size(z)\n",
    "results['l0'] = l0\n",
    "print(\"L0 Norm:\", l0)\n",
    "\n",
    "# ## Significant\n",
    "# mean_values = dfc.groupby(dfc.index).mean()\n",
    "# proportion = mean_values.div(mean_values.sum(axis=0))\n",
    "\n",
    "# distances_mean = []\n",
    "# for f in proportion.columns:\n",
    "#     vector = proportion[f]\n",
    "#     mean_value = mean_values[f]\n",
    "#     # half_vec = vector.max()/2\n",
    "#     mean_vec = vector.mean()\n",
    "#     positive_values = mean_value[vector > mean_vec]\n",
    "#     non_positive_values = mean_value[vector <= mean_vec]\n",
    "#     distances = np.abs(positive_values.values[:, np.newaxis] - non_positive_values.values)\n",
    "#     distances_mean.append(distances.mean()) \n",
    "# Significant = np.nanmean(distances_mean)\n",
    "# results['Significant'] = distances\n",
    "# print(\"Significant: \" + str(results['Significant']))\n"
   ]
  },
  {
   "cell_type": "code",
   "execution_count": null,
   "metadata": {},
   "outputs": [],
   "source": [
    "df = pd.DataFrame({\n",
    "    'l2_l1':           [results['l2_l1']],\n",
    "    'k4':    [results['k4']],\n",
    "    'l0':      [results['l0']],\n",
    "    # 'Significant':            [results['Significant']],\n",
    "})\n",
    "print(df)\n",
    "\n",
    "utils.mkdirs(result_dir, remove_old=False)\n",
    "df.to_excel(pj(result_dir, \"metrics_fa\"+\".xlsx\"), index=False)"
   ]
  },
  {
   "cell_type": "markdown",
   "metadata": {},
   "source": [
    "### F statistic"
   ]
  },
  {
   "cell_type": "code",
   "execution_count": 6,
   "metadata": {},
   "outputs": [],
   "source": [
    "#  F1\n",
    "result_dict = {}\n",
    "cts = np.unique(labels)\n",
    "dfc = dfc.reset_index()\n",
    "\n",
    "for factor in F:\n",
    "    ct_results = {}\n",
    "    for ct in cts:\n",
    "        ctv = dfc[dfc['index'] == ct][factor]\n",
    "        out_ctv = dfc[dfc['index'] != ct][factor]\n",
    "        f_value, p_value = f_oneway(ctv, out_ctv)\n",
    "        # ct_results[ct] = (f_value, p_value)\n",
    "        ct_results[ct] = f_value\n",
    "    result_dict[factor] = ct_results"
   ]
  },
  {
   "cell_type": "code",
   "execution_count": 7,
   "metadata": {},
   "outputs": [],
   "source": [
    "result_df1 = pd.DataFrame(result_dict)\n",
    "v1 = result_df1.sub(result_df1.min(axis=1), axis=0)\n",
    "v2 = result_df1.max(axis=1)-result_df1.min(axis=1)\n",
    "df1 = v1.div(v2, axis=0)"
   ]
  },
  {
   "cell_type": "code",
   "execution_count": 8,
   "metadata": {},
   "outputs": [],
   "source": [
    "result_df1 = pd.DataFrame(result_dict)\n",
    "# v1 = result_df1.sub(result_df1.min(axis=1), axis=0)\n",
    "# v2 = result_df1.max(axis=1)-result_df1.min(axis=1)\n",
    "# df1 = v1.div(v2, axis=0)\n",
    "# df1.index = [\"GEP{}\".format(num) for num in df1.index]\n",
    "df1 = result_df1\n",
    "df1.reset_index()\n",
    "\n",
    "df1.to_csv(pj(result_dir, \"oneway_results.csv\"), index=True)"
   ]
  }
 ],
 "metadata": {
  "kernelspec": {
   "display_name": "base",
   "language": "python",
   "name": "python3"
  },
  "language_info": {
   "codemirror_mode": {
    "name": "ipython",
    "version": 3
   },
   "file_extension": ".py",
   "mimetype": "text/x-python",
   "name": "python",
   "nbconvert_exporter": "python",
   "pygments_lexer": "ipython3",
   "version": "3.7.11"
  },
  "orig_nbformat": 4
 },
 "nbformat": 4,
 "nbformat_minor": 2
}
